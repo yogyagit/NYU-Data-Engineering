{
  "cells": [
    {
      "cell_type": "markdown",
      "metadata": {
        "id": "rPsyQVikjC4L"
      },
      "source": [
        "## Importing required modules for the assignment\n"
      ]
    },
    {
      "cell_type": "code",
      "execution_count": 6,
      "metadata": {
        "id": "JQf6qyi5jC4L"
      },
      "outputs": [],
      "source": [
        "import os\n",
        "import zipfile\n",
        "import datetime\n",
        "import pandas as pd\n",
        "from pymongo import MongoClient\n",
        "from sqlalchemy import create_engine\n",
        "from sqlalchemy.ext.declarative import declarative_base\n",
        "from sqlalchemy.orm import sessionmaker\n",
        "from sqlalchemy import create_engine, Column, Float, String, Integer, DateTime, inspect\n",
        "import numpy as np\n"
      ]
    },
    {
      "cell_type": "markdown",
      "metadata": {
        "id": "3gLtYp2MjC4M"
      },
      "source": [
        "## Data gathering\n",
        "Gather the zip files, and extract them in a single directory so all time series csvs are in a single place for easier processing"
      ]
    },
    {
      "cell_type": "code",
      "execution_count": 2,
      "metadata": {
        "id": "nRaz6mttjC4N",
        "outputId": "70d6e210-7663-47e4-cc0f-2d7b82a141f7"
      },
      "outputs": [
        {
          "name": "stdout",
          "output_type": "stream",
          "text": [
            "Extracted: drive-download-20240411T192414Z-001.zip\n",
            "Extracted: drive-download-20240411T192414Z-003.zip\n",
            "Extracted: drive-download-20240411T192414Z-002.zip\n",
            "Extracted: drive-download-20240411T192414Z-004.zip\n"
          ]
        }
      ],
      "source": [
        "import os\n",
        "import zipfile\n",
        "\n",
        "def extract_all_csvs(zip_file_path, output_folder):\n",
        "    # Ensure the output directory exists\n",
        "    if not os.path.exists(output_folder):\n",
        "        os.makedirs(output_folder)\n",
        "\n",
        "    with zipfile.ZipFile(zip_file_path, 'r') as zip_ref:\n",
        "        # List all contained files\n",
        "        inner_files = zip_ref.namelist()\n",
        "        for file in inner_files:\n",
        "            # If the file is a zip, extract it and then process the extracted zip\n",
        "            if file.endswith('.zip'):\n",
        "                # Extract this zip to a temp directory\n",
        "                temp_dir = os.path.join(output_folder, 'temp')\n",
        "                if not os.path.exists(temp_dir):\n",
        "                    os.makedirs(temp_dir)\n",
        "                zip_ref.extract(file, temp_dir)\n",
        "                # Recursively extract CSVs from it\n",
        "                inner_zip_path = os.path.join(temp_dir, file)\n",
        "                extract_all_csvs(inner_zip_path, output_folder)\n",
        "                os.remove(inner_zip_path)  # Cleanup the temporary zip file\n",
        "            elif file.endswith('.csv') and 'historical_fx_rates' in file.lower():\n",
        "                # Extract CSVs directly to the output folder\n",
        "                zip_ref.extract(file, output_folder)\n",
        "\n",
        "def unzip_files(directory, output_folder):\n",
        "    for root, _, files in os.walk(directory):\n",
        "        for file in files:\n",
        "            if file.endswith('.zip'):\n",
        "                file_path = os.path.join(root, file)\n",
        "                extract_all_csvs(file_path, output_folder)\n",
        "                print(f\"Extracted: {file}\")\n",
        "\n",
        "# Define the directory path containing zip files\n",
        "directory_path = '/Users/yogyasharma/Downloads/MG-GY Data Engineering/HW3/zip_files'\n",
        "output_directory = '/Users/yogyasharma/Downloads/MG-GY Data Engineering/HW3/extracted_csvs'\n",
        "\n",
        "# Run the extraction\n",
        "unzip_files(directory_path, output_directory)\n"
      ]
    },
    {
      "cell_type": "code",
      "execution_count": 4,
      "metadata": {
        "id": "Npy6_gMBjC4N",
        "outputId": "4e21ae16-b413-479b-a95f-3b44f2552990"
      },
      "outputs": [
        {
          "name": "stdout",
          "output_type": "stream",
          "text": [
            "03-01-2010 12:01:00\n"
          ]
        }
      ],
      "source": [
        "from datetime import datetime\n",
        "\n",
        "timestamp_ms = 1262538060000 / 1000  # Converting milliseconds to seconds\n",
        "date_time = datetime.fromtimestamp(timestamp_ms).strftime('%d-%m-%Y %H:%M:%S')\n",
        "\n",
        "print(date_time)\n"
      ]
    },
    {
      "cell_type": "markdown",
      "metadata": {
        "id": "YE9n0BSOjC4O"
      },
      "source": [
        "## Obtain common time interval among all fx pairs\n",
        "To get a common time interval among all time series data, we obtain latest start date and earliest end date for all fx pairs\n"
      ]
    },
    {
      "cell_type": "code",
      "execution_count": 7,
      "metadata": {
        "id": "k1yJnKCzjC4O",
        "outputId": "79993414-0c7d-4b66-f4e5-c994f0908d26"
      },
      "outputs": [
        {
          "name": "stdout",
          "output_type": "stream",
          "text": [
            "starting\n",
            "starting...\n",
            "starting...\n",
            "starting...\n",
            "in for loop\n",
            "last date for file: SGDJPY.csv : 2023-01-25 06:10:00\n",
            "first date for file:  SGDJPY.csv : 2021-01-08 00:09:00\n",
            "in for loop\n",
            "last date for file: AUDCAD.csv : 2023-01-24 23:58:00\n",
            "first date for file:  AUDCAD.csv : 2010-01-03 17:43:00\n",
            "in for loop\n",
            "last date for file: HKDJPY.csv : 2023-01-25 05:55:00\n",
            "first date for file:  HKDJPY.csv : 2010-01-03 17:20:00\n",
            "in for loop\n",
            "last date for file: GBPCAD.csv : 2023-01-25 05:41:00\n",
            "first date for file:  GBPCAD.csv : 2010-01-03 17:18:00\n",
            "in for loop\n",
            "last date for file: USDNOK.csv : 2023-01-25 06:30:00\n",
            "first date for file:  USDNOK.csv : 2010-01-03 17:02:00\n",
            "in for loop\n",
            "last date for file: EURSEK.csv : 2023-01-24 23:59:00\n",
            "first date for file:  EURSEK.csv : 2010-01-03 17:33:00\n",
            "in for loop\n",
            "last date for file: GBPAUD.csv : 2023-01-25 05:39:00\n",
            "first date for file:  GBPAUD.csv : 2010-01-03 17:02:00\n",
            "in for loop\n",
            "last date for file: EURUSD.csv : 2023-01-25 05:34:00\n",
            "first date for file:  EURUSD.csv : 2010-01-03 17:13:00\n",
            "in for loop\n",
            "last date for file: EURHKD.csv : 2023-01-25 05:19:00\n",
            "first date for file:  EURHKD.csv : 2010-01-01 16:05:00\n",
            "in for loop\n",
            "last date for file: USDHUF.csv : 2023-01-25 06:26:00\n",
            "first date for file:  USDHUF.csv : 2010-01-03 17:00:00\n",
            "in for loop\n",
            "last date for file: USDCHF.csv : 2023-01-25 06:17:00\n",
            "first date for file:  USDCHF.csv : 2010-01-03 17:12:00\n",
            "in for loop\n",
            "last date for file: CADCHF.csv : 2023-01-24 23:58:00\n",
            "first date for file:  CADCHF.csv : 2010-01-03 17:34:00\n",
            "in for loop\n",
            "last date for file: EURGBP.csv : 2023-01-24 23:58:00\n",
            "first date for file:  EURGBP.csv : 2010-01-03 17:00:00\n",
            "in for loop\n",
            "last date for file: ZARJPY.csv : 2023-01-24 23:58:00\n",
            "first date for file:  ZARJPY.csv : 2010-01-03 17:07:00\n",
            "in for loop\n",
            "last date for file: GBPPLN.csv : 2023-01-25 05:49:00\n",
            "first date for file:  GBPPLN.csv : 2010-01-03 17:05:00\n",
            "in for loop\n",
            "last date for file: EURDKK.csv : 2023-01-25 05:17:00\n",
            "first date for file:  EURDKK.csv : 2010-01-01 16:05:00\n",
            "in for loop\n",
            "last date for file: EURJPY.csv : 2023-01-25 05:22:00\n",
            "first date for file:  EURJPY.csv : 2010-01-03 17:04:00\n",
            "in for loop\n",
            "last date for file: USDBRL.csv : 2023-01-24 23:54:00\n",
            "first date for file:  USDBRL.csv : 2010-01-04 03:58:00\n",
            "in for loop\n",
            "last date for file: EURCHF.csv : 2023-01-25 05:12:00\n",
            "first date for file:  EURCHF.csv : 2010-01-03 17:04:00\n",
            "in for loop\n",
            "last date for file: EURHUF.csv : 2023-01-24 23:58:00\n",
            "first date for file:  EURHUF.csv : 2010-01-03 17:04:00\n",
            "in for loop\n",
            "last date for file: USDHKD.csv : 2023-01-25 06:24:00\n",
            "first date for file:  USDHKD.csv : 2010-01-03 18:14:00\n",
            "in for loop\n",
            "last date for file: CADHKD.csv : 2023-01-24 23:58:00\n",
            "first date for file:  CADHKD.csv : 2010-01-03 17:03:00\n",
            "in for loop\n",
            "last date for file: CADJPY.csv : 2023-01-24 23:58:00\n",
            "first date for file:  CADJPY.csv : 2010-01-03 17:08:00\n",
            "in for loop\n",
            "last date for file: USDJPY.csv : 2023-01-24 23:58:00\n",
            "first date for file:  USDJPY.csv : 2010-01-03 17:02:00\n",
            "in for loop\n",
            "last date for file: USDDKK.csv : 2023-01-25 06:22:00\n",
            "first date for file:  USDDKK.csv : 2010-01-03 17:14:00\n",
            "in for loop\n",
            "last date for file: USDSGD.csv : 2023-01-24 23:59:00\n",
            "first date for file:  USDSGD.csv : 2010-01-03 17:04:00\n",
            "in for loop\n",
            "last date for file: CADSGD.csv : 2023-01-25 05:00:00\n",
            "first date for file:  CADSGD.csv : 2010-01-01 01:01:00\n",
            "in for loop\n",
            "last date for file: CHFHKD.csv : 2023-01-25 05:03:00\n",
            "first date for file:  CHFHKD.csv : 2010-01-03 17:02:00\n",
            "in for loop\n",
            "last date for file: CHFJPY.csv : 2023-01-25 05:05:00\n",
            "first date for file:  CHFJPY.csv : 2010-01-03 17:02:00\n",
            "in for loop\n",
            "last date for file: USDSEK.csv : 2023-01-24 23:58:00\n",
            "first date for file:  USDSEK.csv : 2010-01-03 17:10:00\n",
            "in for loop\n",
            "last date for file: GBPNZD.csv : 2023-01-24 23:59:00\n",
            "first date for file:  GBPNZD.csv : 2010-01-03 17:10:00\n",
            "in for loop\n",
            "last date for file: NZDCAD.csv : 2023-01-25 05:57:00\n",
            "first date for file:  NZDCAD.csv : 2010-01-03 17:32:00\n",
            "in for loop\n",
            "last date for file: EURNOK.csv : 2023-01-25 05:24:00\n",
            "first date for file:  EURNOK.csv : 2010-01-03 17:53:00\n",
            "in for loop\n",
            "last date for file: SGDCHF.csv : 2023-01-25 06:09:00\n",
            "first date for file:  SGDCHF.csv : 2010-01-03 17:03:00\n",
            "in for loop\n",
            "last date for file: AUDNZD.csv : 2023-01-24 23:58:00\n",
            "first date for file:  AUDNZD.csv : 2010-01-03 17:11:00\n",
            "in for loop\n",
            "last date for file: USDZAR.csv : 2023-01-24 23:57:00\n",
            "first date for file:  USDZAR.csv : 2010-01-03 18:03:00\n",
            "in for loop\n",
            "last date for file: EURTRY.csv : 2023-01-25 05:31:00\n",
            "first date for file:  EURTRY.csv : 2010-01-03 17:08:00\n",
            "in for loop\n",
            "last date for file: NZDSGD.csv : 2023-01-25 06:04:00\n",
            "first date for file:  NZDSGD.csv : 2010-01-03 17:10:00\n",
            "in for loop\n",
            "last date for file: AUDCHF.csv : 2023-01-24 23:59:00\n",
            "first date for file:  AUDCHF.csv : 2010-01-03 17:25:00\n",
            "in for loop\n",
            "last date for file: USDMXN.csv : 2023-01-25 06:28:00\n",
            "first date for file:  USDMXN.csv : 2010-01-03 17:54:00\n",
            "in for loop\n",
            "last date for file: NZDJPY.csv : 2023-01-24 23:59:00\n",
            "first date for file:  NZDJPY.csv : 2010-01-03 17:10:00\n",
            "in for loop\n",
            "last date for file: CHFZAR.csv : 2023-01-24 23:58:00\n",
            "first date for file:  CHFZAR.csv : 2010-01-01 12:37:00\n",
            "in for loop\n",
            "last date for file: NZDHKD.csv : 2023-01-25 06:02:00\n",
            "first date for file:  NZDHKD.csv : 2010-01-03 17:05:00\n",
            "in for loop\n",
            "last date for file: USDCNY.csv : 2023-01-25 02:06:00\n",
            "first date for file:  USDCNY.csv : 2011-07-11 14:20:00\n",
            "in for loop\n",
            "last date for file: USDPLN.csv : 2023-01-25 06:32:00\n",
            "first date for file:  USDPLN.csv : 2010-01-03 17:04:00\n",
            "in for loop\n",
            "last date for file: GBPHKD.csv : 2023-01-25 05:47:00\n",
            "first date for file:  GBPHKD.csv : 2010-01-03 17:03:00\n",
            "in for loop\n",
            "last date for file: GBPUSD.csv : 2023-01-25 05:52:00\n",
            "first date for file:  GBPUSD.csv : 2010-01-03 17:04:00\n",
            "in for loop\n",
            "last date for file: EURAUD.csv : 2023-01-25 05:08:00\n",
            "first date for file:  EURAUD.csv : 2010-01-03 17:02:00\n",
            "in for loop\n",
            "last date for file: AUDHKD.csv : 2023-01-24 23:58:00\n",
            "first date for file:  AUDHKD.csv : 2010-01-01 12:00:00\n",
            "in for loop\n",
            "last date for file: AUDJPY.csv : 2023-01-24 23:59:00\n",
            "first date for file:  AUDJPY.csv : 2010-01-03 17:10:00\n",
            "in for loop\n",
            "last date for file: NZDCHF.csv : 2023-01-25 06:00:00\n",
            "first date for file:  NZDCHF.csv : 2010-01-03 17:32:00\n",
            "in for loop\n",
            "last date for file: AUDSGD.csv : 2023-01-24 23:58:00\n",
            "first date for file:  AUDSGD.csv : 2010-01-01 12:42:00\n",
            "in for loop\n",
            "last date for file: EURCZK.csv : 2023-01-25 05:15:00\n",
            "first date for file:  EURCZK.csv : 2010-01-01 01:00:00\n",
            "in for loop\n",
            "last date for file: GBPJPY.csv : 2023-01-24 23:59:00\n",
            "first date for file:  GBPJPY.csv : 2010-01-03 17:03:00\n",
            "in for loop\n",
            "last date for file: USDTHB.csv : 2023-01-25 06:35:00\n",
            "first date for file:  USDTHB.csv : 2010-01-01 00:06:00\n",
            "in for loop\n",
            "last date for file: EURCAD.csv : 2023-01-25 05:10:00\n",
            "first date for file:  EURCAD.csv : 2010-01-03 17:16:00\n",
            "in for loop\n",
            "last date for file: USDTRY.csv : 2023-01-25 06:37:00\n",
            "first date for file:  USDTRY.csv : 2010-01-03 20:55:00\n",
            "in for loop\n",
            "last date for file: EURZAR.csv : 2023-01-25 05:36:00\n",
            "first date for file:  EURZAR.csv : 2010-01-03 17:05:00\n",
            "latest start date for all files:  2021-01-08 00:09:00\n",
            "earliest end date for all files: 2023-01-24 23:54:00\n"
          ]
        }
      ],
      "source": [
        "def get_start_end_time(directory):\n",
        "    print('starting')\n",
        "    first_datetime = None\n",
        "    latest_datetime = None\n",
        "    earliest_datetime = None\n",
        "    for root, _, files in os.walk(directory):\n",
        "        print('starting...')\n",
        "        for file in files:\n",
        "            print('in for loop')\n",
        "            if file.endswith('.csv'):\n",
        "                file_path = os.path.join(root, file)\n",
        "\n",
        "                #Get the total number of rows in the CSV file\n",
        "                total_rows = sum(1 for line in open(file_path))\n",
        "\n",
        "                # Read the last row of the CSV file into a DataFrame\n",
        "                df_end = pd.read_csv(file_path, skiprows=range(1, total_rows-1))\n",
        "\n",
        "                if 'datetime' in df_end.columns:\n",
        "                    last_row_index = len(df_end) - 1\n",
        "                    last_datetime = df_end[\"datetime\"].iloc[last_row_index]\n",
        "\n",
        "                # Update earliest_datetime if it's None or last_datetime is earlier\n",
        "                if earliest_datetime is None or last_datetime < earliest_datetime:\n",
        "                    earliest_datetime = last_datetime\n",
        "                print('last date for file:', file, ':', last_datetime)\n",
        "                # Read only the second row of the CSV file into a DataFrame\n",
        "                df_beg = pd.read_csv(file_path, nrows=2)\n",
        "                # Check if the DataFrame has at least 2 rows and 'datetime' column exists\n",
        "                if len(df_beg) >= 2 and 'datetime' in df_beg.columns:\n",
        "                    first_datetime = df_beg[\"datetime\"].iloc[1]\n",
        "\n",
        "                if latest_datetime is None or first_datetime > latest_datetime:\n",
        "                        latest_datetime = first_datetime\n",
        "                print('first date for file: ', file,':', first_datetime)\n",
        "\n",
        "    return latest_datetime, earliest_datetime\n",
        "\n",
        "\n",
        "\n",
        "start_time, end_time = get_start_end_time(output_directory)\n",
        "print('latest start date for all files: ',start_time)\n",
        "print('earliest end date for all files:', end_time)"
      ]
    },
    {
      "cell_type": "code",
      "execution_count": 13,
      "metadata": {
        "id": "lGri9dKkjC4O"
      },
      "outputs": [],
      "source": [
        "directory_path = '/Users/yogyasharma/Downloads/MG-GY Data Engineering/HW3/extracted_csvs/historical_fx_rates'"
      ]
    },
    {
      "cell_type": "markdown",
      "metadata": {
        "id": "n4a_nSdUjC4P"
      },
      "source": [
        "Fix the time values so that they start at 12 am and end at 11 pm"
      ]
    },
    {
      "cell_type": "code",
      "execution_count": 10,
      "metadata": {
        "id": "4STnTH0djC4P",
        "outputId": "5bd36f57-2503-4246-ab09-1390c8c99207"
      },
      "outputs": [
        {
          "name": "stdout",
          "output_type": "stream",
          "text": [
            "start_time =  2021-01-08 00:09:00\n",
            "end_time =  2023-01-24 23:54:00\n"
          ]
        }
      ],
      "source": [
        "from datetime import datetime\n",
        "\n",
        "start_time = pd.Timestamp(datetime.strptime(start_time, '%Y-%m-%d %H:%M:%S'))\n",
        "end_time = pd.Timestamp(datetime.strptime(end_time, '%Y-%m-%d %H:%M:%S'))\n",
        "if start_time.hour != 0:\n",
        "    start_time = pd.Timestamp(start_time.date() + datetime.timedelta(days=1))\n",
        "if end_time.hour != 23:\n",
        "    end_time = pd.Timestamp(datetime.combine(end_time.date() - datetime.timedelta(days=1), datetime.time(23)))\n",
        "print('start_time = ', start_time)\n",
        "print(\"end_time = \", end_time)"
      ]
    },
    {
      "cell_type": "markdown",
      "metadata": {
        "id": "4vxMhxDgjC4P"
      },
      "source": [
        "## Initilaise MongoDB and sql DB for data storage"
      ]
    },
    {
      "cell_type": "code",
      "execution_count": 11,
      "metadata": {
        "id": "uTXOiHjtjC4P"
      },
      "outputs": [
        {
          "name": "stderr",
          "output_type": "stream",
          "text": [
            "/var/folders/8p/1jyp2k_10tl7xfnqm54ljh4c0000gn/T/ipykernel_99897/1300328003.py:6: MovedIn20Warning: The ``declarative_base()`` function is now available as sqlalchemy.orm.declarative_base(). (deprecated since: 2.0) (Background on SQLAlchemy 2.0 at: https://sqlalche.me/e/b8d9)\n",
            "  Base = declarative_base()\n"
          ]
        }
      ],
      "source": [
        "# Set up the MongoDB client and database\n",
        "client = MongoClient('mongodb://localhost:27017/')\n",
        "db = client[\"MMGY_DE_HW3\"]\n",
        "\n",
        "# Set up the MySQL engine and database\n",
        "Base = declarative_base()\n",
        "engine = create_engine(f'sqlite:///HW3_predictability_fx')\n",
        "Session = sessionmaker(bind=engine)\n",
        "\n",
        "class FXData(Base):\n",
        "    __tablename__ = 'fx_data_hourly'\n",
        "    id = Column(Integer, primary_key=True)\n",
        "    vw = Column(Float)  # Change the data type to match your DataFrame\n",
        "    n = Column(Integer)  # Change the data type to match your DataFrame\n",
        "    timestamp = Column(String)  # Adjust the data type according to your needs\n"
      ]
    },
    {
      "cell_type": "markdown",
      "metadata": {
        "id": "_TnmYzmGjC4P"
      },
      "source": [
        "## Get data points between start and end times and convert it to have 1 data point for every hour\n"
      ]
    },
    {
      "cell_type": "markdown",
      "metadata": {
        "id": "cbppVlX7jC4P"
      },
      "source": [
        "After converting to hourly format, thus there 24 data points for every day.After this data has been converted, store this info in mongo db and sql db for further processing.\n",
        "\n",
        "While converting and storing data, the NULL fields are updated by the mean of the previous and the next values, in case there is no next/previous value, it is updated by the nearest value\n"
      ]
    },
    {
      "cell_type": "code",
      "execution_count": 14,
      "metadata": {
        "id": "xwmEWDqYjC4Q",
        "outputId": "d564fb79-67f8-43ef-c8b9-91ca1fb372f2"
      },
      "outputs": [
        {
          "name": "stderr",
          "output_type": "stream",
          "text": [
            "/var/folders/8p/1jyp2k_10tl7xfnqm54ljh4c0000gn/T/ipykernel_99897/3062457347.py:15: FutureWarning: DataFrame.fillna with 'method' is deprecated and will raise in a future version. Use obj.ffill() or obj.bfill() instead.\n",
            "  df_final_hourly = df_final_hourly.fillna(method='ffill')\n"
          ]
        },
        {
          "name": "stdout",
          "output_type": "stream",
          "text": [
            "Data inserted successfully into SQL database.\n"
          ]
        },
        {
          "name": "stderr",
          "output_type": "stream",
          "text": [
            "/var/folders/8p/1jyp2k_10tl7xfnqm54ljh4c0000gn/T/ipykernel_99897/3062457347.py:15: FutureWarning: DataFrame.fillna with 'method' is deprecated and will raise in a future version. Use obj.ffill() or obj.bfill() instead.\n",
            "  df_final_hourly = df_final_hourly.fillna(method='ffill')\n"
          ]
        },
        {
          "name": "stdout",
          "output_type": "stream",
          "text": [
            "Data inserted successfully into SQL database.\n"
          ]
        },
        {
          "name": "stderr",
          "output_type": "stream",
          "text": [
            "/var/folders/8p/1jyp2k_10tl7xfnqm54ljh4c0000gn/T/ipykernel_99897/3062457347.py:15: FutureWarning: DataFrame.fillna with 'method' is deprecated and will raise in a future version. Use obj.ffill() or obj.bfill() instead.\n",
            "  df_final_hourly = df_final_hourly.fillna(method='ffill')\n"
          ]
        },
        {
          "name": "stdout",
          "output_type": "stream",
          "text": [
            "Data inserted successfully into SQL database.\n"
          ]
        },
        {
          "name": "stderr",
          "output_type": "stream",
          "text": [
            "/var/folders/8p/1jyp2k_10tl7xfnqm54ljh4c0000gn/T/ipykernel_99897/3062457347.py:15: FutureWarning: DataFrame.fillna with 'method' is deprecated and will raise in a future version. Use obj.ffill() or obj.bfill() instead.\n",
            "  df_final_hourly = df_final_hourly.fillna(method='ffill')\n"
          ]
        },
        {
          "name": "stdout",
          "output_type": "stream",
          "text": [
            "Data inserted successfully into SQL database.\n"
          ]
        },
        {
          "name": "stderr",
          "output_type": "stream",
          "text": [
            "/var/folders/8p/1jyp2k_10tl7xfnqm54ljh4c0000gn/T/ipykernel_99897/3062457347.py:15: FutureWarning: DataFrame.fillna with 'method' is deprecated and will raise in a future version. Use obj.ffill() or obj.bfill() instead.\n",
            "  df_final_hourly = df_final_hourly.fillna(method='ffill')\n"
          ]
        },
        {
          "name": "stdout",
          "output_type": "stream",
          "text": [
            "Data inserted successfully into SQL database.\n"
          ]
        },
        {
          "name": "stderr",
          "output_type": "stream",
          "text": [
            "/var/folders/8p/1jyp2k_10tl7xfnqm54ljh4c0000gn/T/ipykernel_99897/3062457347.py:15: FutureWarning: DataFrame.fillna with 'method' is deprecated and will raise in a future version. Use obj.ffill() or obj.bfill() instead.\n",
            "  df_final_hourly = df_final_hourly.fillna(method='ffill')\n"
          ]
        },
        {
          "name": "stdout",
          "output_type": "stream",
          "text": [
            "Data inserted successfully into SQL database.\n"
          ]
        },
        {
          "name": "stderr",
          "output_type": "stream",
          "text": [
            "/var/folders/8p/1jyp2k_10tl7xfnqm54ljh4c0000gn/T/ipykernel_99897/3062457347.py:15: FutureWarning: DataFrame.fillna with 'method' is deprecated and will raise in a future version. Use obj.ffill() or obj.bfill() instead.\n",
            "  df_final_hourly = df_final_hourly.fillna(method='ffill')\n"
          ]
        },
        {
          "name": "stdout",
          "output_type": "stream",
          "text": [
            "Data inserted successfully into SQL database.\n"
          ]
        },
        {
          "name": "stderr",
          "output_type": "stream",
          "text": [
            "/var/folders/8p/1jyp2k_10tl7xfnqm54ljh4c0000gn/T/ipykernel_99897/3062457347.py:15: FutureWarning: DataFrame.fillna with 'method' is deprecated and will raise in a future version. Use obj.ffill() or obj.bfill() instead.\n",
            "  df_final_hourly = df_final_hourly.fillna(method='ffill')\n"
          ]
        },
        {
          "name": "stdout",
          "output_type": "stream",
          "text": [
            "Data inserted successfully into SQL database.\n"
          ]
        },
        {
          "name": "stderr",
          "output_type": "stream",
          "text": [
            "/var/folders/8p/1jyp2k_10tl7xfnqm54ljh4c0000gn/T/ipykernel_99897/3062457347.py:15: FutureWarning: DataFrame.fillna with 'method' is deprecated and will raise in a future version. Use obj.ffill() or obj.bfill() instead.\n",
            "  df_final_hourly = df_final_hourly.fillna(method='ffill')\n"
          ]
        },
        {
          "name": "stdout",
          "output_type": "stream",
          "text": [
            "Data inserted successfully into SQL database.\n"
          ]
        },
        {
          "name": "stderr",
          "output_type": "stream",
          "text": [
            "/var/folders/8p/1jyp2k_10tl7xfnqm54ljh4c0000gn/T/ipykernel_99897/3062457347.py:15: FutureWarning: DataFrame.fillna with 'method' is deprecated and will raise in a future version. Use obj.ffill() or obj.bfill() instead.\n",
            "  df_final_hourly = df_final_hourly.fillna(method='ffill')\n"
          ]
        },
        {
          "name": "stdout",
          "output_type": "stream",
          "text": [
            "Data inserted successfully into SQL database.\n"
          ]
        },
        {
          "name": "stderr",
          "output_type": "stream",
          "text": [
            "/var/folders/8p/1jyp2k_10tl7xfnqm54ljh4c0000gn/T/ipykernel_99897/3062457347.py:15: FutureWarning: DataFrame.fillna with 'method' is deprecated and will raise in a future version. Use obj.ffill() or obj.bfill() instead.\n",
            "  df_final_hourly = df_final_hourly.fillna(method='ffill')\n"
          ]
        },
        {
          "name": "stdout",
          "output_type": "stream",
          "text": [
            "Data inserted successfully into SQL database.\n"
          ]
        },
        {
          "name": "stderr",
          "output_type": "stream",
          "text": [
            "/var/folders/8p/1jyp2k_10tl7xfnqm54ljh4c0000gn/T/ipykernel_99897/3062457347.py:15: FutureWarning: DataFrame.fillna with 'method' is deprecated and will raise in a future version. Use obj.ffill() or obj.bfill() instead.\n",
            "  df_final_hourly = df_final_hourly.fillna(method='ffill')\n"
          ]
        },
        {
          "name": "stdout",
          "output_type": "stream",
          "text": [
            "Data inserted successfully into SQL database.\n"
          ]
        },
        {
          "name": "stderr",
          "output_type": "stream",
          "text": [
            "/var/folders/8p/1jyp2k_10tl7xfnqm54ljh4c0000gn/T/ipykernel_99897/3062457347.py:15: FutureWarning: DataFrame.fillna with 'method' is deprecated and will raise in a future version. Use obj.ffill() or obj.bfill() instead.\n",
            "  df_final_hourly = df_final_hourly.fillna(method='ffill')\n"
          ]
        },
        {
          "name": "stdout",
          "output_type": "stream",
          "text": [
            "Data inserted successfully into SQL database.\n"
          ]
        },
        {
          "name": "stderr",
          "output_type": "stream",
          "text": [
            "/var/folders/8p/1jyp2k_10tl7xfnqm54ljh4c0000gn/T/ipykernel_99897/3062457347.py:15: FutureWarning: DataFrame.fillna with 'method' is deprecated and will raise in a future version. Use obj.ffill() or obj.bfill() instead.\n",
            "  df_final_hourly = df_final_hourly.fillna(method='ffill')\n"
          ]
        },
        {
          "name": "stdout",
          "output_type": "stream",
          "text": [
            "Data inserted successfully into SQL database.\n"
          ]
        },
        {
          "name": "stderr",
          "output_type": "stream",
          "text": [
            "/var/folders/8p/1jyp2k_10tl7xfnqm54ljh4c0000gn/T/ipykernel_99897/3062457347.py:15: FutureWarning: DataFrame.fillna with 'method' is deprecated and will raise in a future version. Use obj.ffill() or obj.bfill() instead.\n",
            "  df_final_hourly = df_final_hourly.fillna(method='ffill')\n"
          ]
        },
        {
          "name": "stdout",
          "output_type": "stream",
          "text": [
            "Data inserted successfully into SQL database.\n"
          ]
        },
        {
          "name": "stderr",
          "output_type": "stream",
          "text": [
            "/var/folders/8p/1jyp2k_10tl7xfnqm54ljh4c0000gn/T/ipykernel_99897/3062457347.py:15: FutureWarning: DataFrame.fillna with 'method' is deprecated and will raise in a future version. Use obj.ffill() or obj.bfill() instead.\n",
            "  df_final_hourly = df_final_hourly.fillna(method='ffill')\n"
          ]
        },
        {
          "name": "stdout",
          "output_type": "stream",
          "text": [
            "Data inserted successfully into SQL database.\n"
          ]
        },
        {
          "name": "stderr",
          "output_type": "stream",
          "text": [
            "/var/folders/8p/1jyp2k_10tl7xfnqm54ljh4c0000gn/T/ipykernel_99897/3062457347.py:15: FutureWarning: DataFrame.fillna with 'method' is deprecated and will raise in a future version. Use obj.ffill() or obj.bfill() instead.\n",
            "  df_final_hourly = df_final_hourly.fillna(method='ffill')\n"
          ]
        },
        {
          "name": "stdout",
          "output_type": "stream",
          "text": [
            "Data inserted successfully into SQL database.\n"
          ]
        },
        {
          "name": "stderr",
          "output_type": "stream",
          "text": [
            "/var/folders/8p/1jyp2k_10tl7xfnqm54ljh4c0000gn/T/ipykernel_99897/3062457347.py:15: FutureWarning: DataFrame.fillna with 'method' is deprecated and will raise in a future version. Use obj.ffill() or obj.bfill() instead.\n",
            "  df_final_hourly = df_final_hourly.fillna(method='ffill')\n"
          ]
        },
        {
          "name": "stdout",
          "output_type": "stream",
          "text": [
            "Data inserted successfully into SQL database.\n"
          ]
        },
        {
          "name": "stderr",
          "output_type": "stream",
          "text": [
            "/var/folders/8p/1jyp2k_10tl7xfnqm54ljh4c0000gn/T/ipykernel_99897/3062457347.py:15: FutureWarning: DataFrame.fillna with 'method' is deprecated and will raise in a future version. Use obj.ffill() or obj.bfill() instead.\n",
            "  df_final_hourly = df_final_hourly.fillna(method='ffill')\n"
          ]
        },
        {
          "name": "stdout",
          "output_type": "stream",
          "text": [
            "Data inserted successfully into SQL database.\n"
          ]
        },
        {
          "name": "stderr",
          "output_type": "stream",
          "text": [
            "/var/folders/8p/1jyp2k_10tl7xfnqm54ljh4c0000gn/T/ipykernel_99897/3062457347.py:15: FutureWarning: DataFrame.fillna with 'method' is deprecated and will raise in a future version. Use obj.ffill() or obj.bfill() instead.\n",
            "  df_final_hourly = df_final_hourly.fillna(method='ffill')\n"
          ]
        },
        {
          "name": "stdout",
          "output_type": "stream",
          "text": [
            "Data inserted successfully into SQL database.\n"
          ]
        },
        {
          "name": "stderr",
          "output_type": "stream",
          "text": [
            "/var/folders/8p/1jyp2k_10tl7xfnqm54ljh4c0000gn/T/ipykernel_99897/3062457347.py:15: FutureWarning: DataFrame.fillna with 'method' is deprecated and will raise in a future version. Use obj.ffill() or obj.bfill() instead.\n",
            "  df_final_hourly = df_final_hourly.fillna(method='ffill')\n"
          ]
        },
        {
          "name": "stdout",
          "output_type": "stream",
          "text": [
            "Data inserted successfully into SQL database.\n"
          ]
        },
        {
          "name": "stderr",
          "output_type": "stream",
          "text": [
            "/var/folders/8p/1jyp2k_10tl7xfnqm54ljh4c0000gn/T/ipykernel_99897/3062457347.py:15: FutureWarning: DataFrame.fillna with 'method' is deprecated and will raise in a future version. Use obj.ffill() or obj.bfill() instead.\n",
            "  df_final_hourly = df_final_hourly.fillna(method='ffill')\n"
          ]
        },
        {
          "name": "stdout",
          "output_type": "stream",
          "text": [
            "Data inserted successfully into SQL database.\n"
          ]
        },
        {
          "name": "stderr",
          "output_type": "stream",
          "text": [
            "/var/folders/8p/1jyp2k_10tl7xfnqm54ljh4c0000gn/T/ipykernel_99897/3062457347.py:15: FutureWarning: DataFrame.fillna with 'method' is deprecated and will raise in a future version. Use obj.ffill() or obj.bfill() instead.\n",
            "  df_final_hourly = df_final_hourly.fillna(method='ffill')\n"
          ]
        },
        {
          "name": "stdout",
          "output_type": "stream",
          "text": [
            "Data inserted successfully into SQL database.\n"
          ]
        },
        {
          "name": "stderr",
          "output_type": "stream",
          "text": [
            "/var/folders/8p/1jyp2k_10tl7xfnqm54ljh4c0000gn/T/ipykernel_99897/3062457347.py:15: FutureWarning: DataFrame.fillna with 'method' is deprecated and will raise in a future version. Use obj.ffill() or obj.bfill() instead.\n",
            "  df_final_hourly = df_final_hourly.fillna(method='ffill')\n"
          ]
        },
        {
          "name": "stdout",
          "output_type": "stream",
          "text": [
            "Data inserted successfully into SQL database.\n"
          ]
        },
        {
          "name": "stderr",
          "output_type": "stream",
          "text": [
            "/var/folders/8p/1jyp2k_10tl7xfnqm54ljh4c0000gn/T/ipykernel_99897/3062457347.py:15: FutureWarning: DataFrame.fillna with 'method' is deprecated and will raise in a future version. Use obj.ffill() or obj.bfill() instead.\n",
            "  df_final_hourly = df_final_hourly.fillna(method='ffill')\n"
          ]
        },
        {
          "name": "stdout",
          "output_type": "stream",
          "text": [
            "Data inserted successfully into SQL database.\n"
          ]
        },
        {
          "name": "stderr",
          "output_type": "stream",
          "text": [
            "/var/folders/8p/1jyp2k_10tl7xfnqm54ljh4c0000gn/T/ipykernel_99897/3062457347.py:15: FutureWarning: DataFrame.fillna with 'method' is deprecated and will raise in a future version. Use obj.ffill() or obj.bfill() instead.\n",
            "  df_final_hourly = df_final_hourly.fillna(method='ffill')\n"
          ]
        },
        {
          "name": "stdout",
          "output_type": "stream",
          "text": [
            "Data inserted successfully into SQL database.\n"
          ]
        },
        {
          "name": "stderr",
          "output_type": "stream",
          "text": [
            "/var/folders/8p/1jyp2k_10tl7xfnqm54ljh4c0000gn/T/ipykernel_99897/3062457347.py:15: FutureWarning: DataFrame.fillna with 'method' is deprecated and will raise in a future version. Use obj.ffill() or obj.bfill() instead.\n",
            "  df_final_hourly = df_final_hourly.fillna(method='ffill')\n"
          ]
        },
        {
          "name": "stdout",
          "output_type": "stream",
          "text": [
            "Data inserted successfully into SQL database.\n"
          ]
        },
        {
          "name": "stderr",
          "output_type": "stream",
          "text": [
            "/var/folders/8p/1jyp2k_10tl7xfnqm54ljh4c0000gn/T/ipykernel_99897/3062457347.py:15: FutureWarning: DataFrame.fillna with 'method' is deprecated and will raise in a future version. Use obj.ffill() or obj.bfill() instead.\n",
            "  df_final_hourly = df_final_hourly.fillna(method='ffill')\n"
          ]
        },
        {
          "name": "stdout",
          "output_type": "stream",
          "text": [
            "Data inserted successfully into SQL database.\n"
          ]
        },
        {
          "name": "stderr",
          "output_type": "stream",
          "text": [
            "/var/folders/8p/1jyp2k_10tl7xfnqm54ljh4c0000gn/T/ipykernel_99897/3062457347.py:15: FutureWarning: DataFrame.fillna with 'method' is deprecated and will raise in a future version. Use obj.ffill() or obj.bfill() instead.\n",
            "  df_final_hourly = df_final_hourly.fillna(method='ffill')\n"
          ]
        },
        {
          "name": "stdout",
          "output_type": "stream",
          "text": [
            "Data inserted successfully into SQL database.\n"
          ]
        },
        {
          "name": "stderr",
          "output_type": "stream",
          "text": [
            "/var/folders/8p/1jyp2k_10tl7xfnqm54ljh4c0000gn/T/ipykernel_99897/3062457347.py:15: FutureWarning: DataFrame.fillna with 'method' is deprecated and will raise in a future version. Use obj.ffill() or obj.bfill() instead.\n",
            "  df_final_hourly = df_final_hourly.fillna(method='ffill')\n"
          ]
        },
        {
          "name": "stdout",
          "output_type": "stream",
          "text": [
            "Data inserted successfully into SQL database.\n"
          ]
        },
        {
          "name": "stderr",
          "output_type": "stream",
          "text": [
            "/var/folders/8p/1jyp2k_10tl7xfnqm54ljh4c0000gn/T/ipykernel_99897/3062457347.py:15: FutureWarning: DataFrame.fillna with 'method' is deprecated and will raise in a future version. Use obj.ffill() or obj.bfill() instead.\n",
            "  df_final_hourly = df_final_hourly.fillna(method='ffill')\n"
          ]
        },
        {
          "name": "stdout",
          "output_type": "stream",
          "text": [
            "Data inserted successfully into SQL database.\n"
          ]
        },
        {
          "name": "stderr",
          "output_type": "stream",
          "text": [
            "/var/folders/8p/1jyp2k_10tl7xfnqm54ljh4c0000gn/T/ipykernel_99897/3062457347.py:15: FutureWarning: DataFrame.fillna with 'method' is deprecated and will raise in a future version. Use obj.ffill() or obj.bfill() instead.\n",
            "  df_final_hourly = df_final_hourly.fillna(method='ffill')\n"
          ]
        },
        {
          "name": "stdout",
          "output_type": "stream",
          "text": [
            "Data inserted successfully into SQL database.\n"
          ]
        },
        {
          "name": "stderr",
          "output_type": "stream",
          "text": [
            "/var/folders/8p/1jyp2k_10tl7xfnqm54ljh4c0000gn/T/ipykernel_99897/3062457347.py:15: FutureWarning: DataFrame.fillna with 'method' is deprecated and will raise in a future version. Use obj.ffill() or obj.bfill() instead.\n",
            "  df_final_hourly = df_final_hourly.fillna(method='ffill')\n"
          ]
        },
        {
          "name": "stdout",
          "output_type": "stream",
          "text": [
            "Data inserted successfully into SQL database.\n"
          ]
        },
        {
          "name": "stderr",
          "output_type": "stream",
          "text": [
            "/var/folders/8p/1jyp2k_10tl7xfnqm54ljh4c0000gn/T/ipykernel_99897/3062457347.py:15: FutureWarning: DataFrame.fillna with 'method' is deprecated and will raise in a future version. Use obj.ffill() or obj.bfill() instead.\n",
            "  df_final_hourly = df_final_hourly.fillna(method='ffill')\n"
          ]
        },
        {
          "name": "stdout",
          "output_type": "stream",
          "text": [
            "Data inserted successfully into SQL database.\n"
          ]
        },
        {
          "name": "stderr",
          "output_type": "stream",
          "text": [
            "/var/folders/8p/1jyp2k_10tl7xfnqm54ljh4c0000gn/T/ipykernel_99897/3062457347.py:15: FutureWarning: DataFrame.fillna with 'method' is deprecated and will raise in a future version. Use obj.ffill() or obj.bfill() instead.\n",
            "  df_final_hourly = df_final_hourly.fillna(method='ffill')\n"
          ]
        },
        {
          "name": "stdout",
          "output_type": "stream",
          "text": [
            "Data inserted successfully into SQL database.\n"
          ]
        },
        {
          "name": "stderr",
          "output_type": "stream",
          "text": [
            "/var/folders/8p/1jyp2k_10tl7xfnqm54ljh4c0000gn/T/ipykernel_99897/3062457347.py:15: FutureWarning: DataFrame.fillna with 'method' is deprecated and will raise in a future version. Use obj.ffill() or obj.bfill() instead.\n",
            "  df_final_hourly = df_final_hourly.fillna(method='ffill')\n"
          ]
        },
        {
          "name": "stdout",
          "output_type": "stream",
          "text": [
            "Data inserted successfully into SQL database.\n"
          ]
        },
        {
          "name": "stderr",
          "output_type": "stream",
          "text": [
            "/var/folders/8p/1jyp2k_10tl7xfnqm54ljh4c0000gn/T/ipykernel_99897/3062457347.py:15: FutureWarning: DataFrame.fillna with 'method' is deprecated and will raise in a future version. Use obj.ffill() or obj.bfill() instead.\n",
            "  df_final_hourly = df_final_hourly.fillna(method='ffill')\n"
          ]
        },
        {
          "name": "stdout",
          "output_type": "stream",
          "text": [
            "Data inserted successfully into SQL database.\n"
          ]
        },
        {
          "name": "stderr",
          "output_type": "stream",
          "text": [
            "/var/folders/8p/1jyp2k_10tl7xfnqm54ljh4c0000gn/T/ipykernel_99897/3062457347.py:15: FutureWarning: DataFrame.fillna with 'method' is deprecated and will raise in a future version. Use obj.ffill() or obj.bfill() instead.\n",
            "  df_final_hourly = df_final_hourly.fillna(method='ffill')\n"
          ]
        },
        {
          "name": "stdout",
          "output_type": "stream",
          "text": [
            "Data inserted successfully into SQL database.\n"
          ]
        },
        {
          "name": "stderr",
          "output_type": "stream",
          "text": [
            "/var/folders/8p/1jyp2k_10tl7xfnqm54ljh4c0000gn/T/ipykernel_99897/3062457347.py:15: FutureWarning: DataFrame.fillna with 'method' is deprecated and will raise in a future version. Use obj.ffill() or obj.bfill() instead.\n",
            "  df_final_hourly = df_final_hourly.fillna(method='ffill')\n"
          ]
        },
        {
          "name": "stdout",
          "output_type": "stream",
          "text": [
            "Data inserted successfully into SQL database.\n"
          ]
        },
        {
          "name": "stderr",
          "output_type": "stream",
          "text": [
            "/var/folders/8p/1jyp2k_10tl7xfnqm54ljh4c0000gn/T/ipykernel_99897/3062457347.py:15: FutureWarning: DataFrame.fillna with 'method' is deprecated and will raise in a future version. Use obj.ffill() or obj.bfill() instead.\n",
            "  df_final_hourly = df_final_hourly.fillna(method='ffill')\n"
          ]
        },
        {
          "name": "stdout",
          "output_type": "stream",
          "text": [
            "Data inserted successfully into SQL database.\n"
          ]
        },
        {
          "name": "stderr",
          "output_type": "stream",
          "text": [
            "/var/folders/8p/1jyp2k_10tl7xfnqm54ljh4c0000gn/T/ipykernel_99897/3062457347.py:15: FutureWarning: DataFrame.fillna with 'method' is deprecated and will raise in a future version. Use obj.ffill() or obj.bfill() instead.\n",
            "  df_final_hourly = df_final_hourly.fillna(method='ffill')\n"
          ]
        },
        {
          "name": "stdout",
          "output_type": "stream",
          "text": [
            "Data inserted successfully into SQL database.\n"
          ]
        },
        {
          "name": "stderr",
          "output_type": "stream",
          "text": [
            "/var/folders/8p/1jyp2k_10tl7xfnqm54ljh4c0000gn/T/ipykernel_99897/3062457347.py:15: FutureWarning: DataFrame.fillna with 'method' is deprecated and will raise in a future version. Use obj.ffill() or obj.bfill() instead.\n",
            "  df_final_hourly = df_final_hourly.fillna(method='ffill')\n"
          ]
        },
        {
          "name": "stdout",
          "output_type": "stream",
          "text": [
            "Data inserted successfully into SQL database.\n"
          ]
        },
        {
          "name": "stderr",
          "output_type": "stream",
          "text": [
            "/var/folders/8p/1jyp2k_10tl7xfnqm54ljh4c0000gn/T/ipykernel_99897/3062457347.py:15: FutureWarning: DataFrame.fillna with 'method' is deprecated and will raise in a future version. Use obj.ffill() or obj.bfill() instead.\n",
            "  df_final_hourly = df_final_hourly.fillna(method='ffill')\n"
          ]
        },
        {
          "name": "stdout",
          "output_type": "stream",
          "text": [
            "Data inserted successfully into SQL database.\n"
          ]
        },
        {
          "name": "stderr",
          "output_type": "stream",
          "text": [
            "/var/folders/8p/1jyp2k_10tl7xfnqm54ljh4c0000gn/T/ipykernel_99897/3062457347.py:15: FutureWarning: DataFrame.fillna with 'method' is deprecated and will raise in a future version. Use obj.ffill() or obj.bfill() instead.\n",
            "  df_final_hourly = df_final_hourly.fillna(method='ffill')\n"
          ]
        },
        {
          "name": "stdout",
          "output_type": "stream",
          "text": [
            "Data inserted successfully into SQL database.\n"
          ]
        },
        {
          "name": "stderr",
          "output_type": "stream",
          "text": [
            "/var/folders/8p/1jyp2k_10tl7xfnqm54ljh4c0000gn/T/ipykernel_99897/3062457347.py:15: FutureWarning: DataFrame.fillna with 'method' is deprecated and will raise in a future version. Use obj.ffill() or obj.bfill() instead.\n",
            "  df_final_hourly = df_final_hourly.fillna(method='ffill')\n"
          ]
        },
        {
          "name": "stdout",
          "output_type": "stream",
          "text": [
            "Data inserted successfully into SQL database.\n"
          ]
        },
        {
          "name": "stderr",
          "output_type": "stream",
          "text": [
            "/var/folders/8p/1jyp2k_10tl7xfnqm54ljh4c0000gn/T/ipykernel_99897/3062457347.py:15: FutureWarning: DataFrame.fillna with 'method' is deprecated and will raise in a future version. Use obj.ffill() or obj.bfill() instead.\n",
            "  df_final_hourly = df_final_hourly.fillna(method='ffill')\n"
          ]
        },
        {
          "name": "stdout",
          "output_type": "stream",
          "text": [
            "Data inserted successfully into SQL database.\n"
          ]
        },
        {
          "name": "stderr",
          "output_type": "stream",
          "text": [
            "/var/folders/8p/1jyp2k_10tl7xfnqm54ljh4c0000gn/T/ipykernel_99897/3062457347.py:15: FutureWarning: DataFrame.fillna with 'method' is deprecated and will raise in a future version. Use obj.ffill() or obj.bfill() instead.\n",
            "  df_final_hourly = df_final_hourly.fillna(method='ffill')\n"
          ]
        },
        {
          "name": "stdout",
          "output_type": "stream",
          "text": [
            "Data inserted successfully into SQL database.\n"
          ]
        },
        {
          "name": "stderr",
          "output_type": "stream",
          "text": [
            "/var/folders/8p/1jyp2k_10tl7xfnqm54ljh4c0000gn/T/ipykernel_99897/3062457347.py:15: FutureWarning: DataFrame.fillna with 'method' is deprecated and will raise in a future version. Use obj.ffill() or obj.bfill() instead.\n",
            "  df_final_hourly = df_final_hourly.fillna(method='ffill')\n"
          ]
        },
        {
          "name": "stdout",
          "output_type": "stream",
          "text": [
            "Data inserted successfully into SQL database.\n"
          ]
        },
        {
          "name": "stderr",
          "output_type": "stream",
          "text": [
            "/var/folders/8p/1jyp2k_10tl7xfnqm54ljh4c0000gn/T/ipykernel_99897/3062457347.py:15: FutureWarning: DataFrame.fillna with 'method' is deprecated and will raise in a future version. Use obj.ffill() or obj.bfill() instead.\n",
            "  df_final_hourly = df_final_hourly.fillna(method='ffill')\n"
          ]
        },
        {
          "name": "stdout",
          "output_type": "stream",
          "text": [
            "Data inserted successfully into SQL database.\n"
          ]
        },
        {
          "name": "stderr",
          "output_type": "stream",
          "text": [
            "/var/folders/8p/1jyp2k_10tl7xfnqm54ljh4c0000gn/T/ipykernel_99897/3062457347.py:15: FutureWarning: DataFrame.fillna with 'method' is deprecated and will raise in a future version. Use obj.ffill() or obj.bfill() instead.\n",
            "  df_final_hourly = df_final_hourly.fillna(method='ffill')\n"
          ]
        },
        {
          "name": "stdout",
          "output_type": "stream",
          "text": [
            "Data inserted successfully into SQL database.\n"
          ]
        },
        {
          "name": "stderr",
          "output_type": "stream",
          "text": [
            "/var/folders/8p/1jyp2k_10tl7xfnqm54ljh4c0000gn/T/ipykernel_99897/3062457347.py:15: FutureWarning: DataFrame.fillna with 'method' is deprecated and will raise in a future version. Use obj.ffill() or obj.bfill() instead.\n",
            "  df_final_hourly = df_final_hourly.fillna(method='ffill')\n"
          ]
        },
        {
          "name": "stdout",
          "output_type": "stream",
          "text": [
            "Data inserted successfully into SQL database.\n"
          ]
        },
        {
          "name": "stderr",
          "output_type": "stream",
          "text": [
            "/var/folders/8p/1jyp2k_10tl7xfnqm54ljh4c0000gn/T/ipykernel_99897/3062457347.py:15: FutureWarning: DataFrame.fillna with 'method' is deprecated and will raise in a future version. Use obj.ffill() or obj.bfill() instead.\n",
            "  df_final_hourly = df_final_hourly.fillna(method='ffill')\n"
          ]
        },
        {
          "name": "stdout",
          "output_type": "stream",
          "text": [
            "Data inserted successfully into SQL database.\n"
          ]
        },
        {
          "name": "stderr",
          "output_type": "stream",
          "text": [
            "/var/folders/8p/1jyp2k_10tl7xfnqm54ljh4c0000gn/T/ipykernel_99897/3062457347.py:15: FutureWarning: DataFrame.fillna with 'method' is deprecated and will raise in a future version. Use obj.ffill() or obj.bfill() instead.\n",
            "  df_final_hourly = df_final_hourly.fillna(method='ffill')\n"
          ]
        },
        {
          "name": "stdout",
          "output_type": "stream",
          "text": [
            "Data inserted successfully into SQL database.\n"
          ]
        },
        {
          "name": "stderr",
          "output_type": "stream",
          "text": [
            "/var/folders/8p/1jyp2k_10tl7xfnqm54ljh4c0000gn/T/ipykernel_99897/3062457347.py:15: FutureWarning: DataFrame.fillna with 'method' is deprecated and will raise in a future version. Use obj.ffill() or obj.bfill() instead.\n",
            "  df_final_hourly = df_final_hourly.fillna(method='ffill')\n"
          ]
        },
        {
          "name": "stdout",
          "output_type": "stream",
          "text": [
            "Data inserted successfully into SQL database.\n"
          ]
        },
        {
          "name": "stderr",
          "output_type": "stream",
          "text": [
            "/var/folders/8p/1jyp2k_10tl7xfnqm54ljh4c0000gn/T/ipykernel_99897/3062457347.py:15: FutureWarning: DataFrame.fillna with 'method' is deprecated and will raise in a future version. Use obj.ffill() or obj.bfill() instead.\n",
            "  df_final_hourly = df_final_hourly.fillna(method='ffill')\n"
          ]
        },
        {
          "name": "stdout",
          "output_type": "stream",
          "text": [
            "Data inserted successfully into SQL database.\n"
          ]
        },
        {
          "name": "stderr",
          "output_type": "stream",
          "text": [
            "/var/folders/8p/1jyp2k_10tl7xfnqm54ljh4c0000gn/T/ipykernel_99897/3062457347.py:15: FutureWarning: DataFrame.fillna with 'method' is deprecated and will raise in a future version. Use obj.ffill() or obj.bfill() instead.\n",
            "  df_final_hourly = df_final_hourly.fillna(method='ffill')\n"
          ]
        },
        {
          "name": "stdout",
          "output_type": "stream",
          "text": [
            "Data inserted successfully into SQL database.\n"
          ]
        },
        {
          "name": "stderr",
          "output_type": "stream",
          "text": [
            "/var/folders/8p/1jyp2k_10tl7xfnqm54ljh4c0000gn/T/ipykernel_99897/3062457347.py:15: FutureWarning: DataFrame.fillna with 'method' is deprecated and will raise in a future version. Use obj.ffill() or obj.bfill() instead.\n",
            "  df_final_hourly = df_final_hourly.fillna(method='ffill')\n"
          ]
        },
        {
          "name": "stdout",
          "output_type": "stream",
          "text": [
            "Data inserted successfully into SQL database.\n"
          ]
        },
        {
          "name": "stderr",
          "output_type": "stream",
          "text": [
            "/var/folders/8p/1jyp2k_10tl7xfnqm54ljh4c0000gn/T/ipykernel_99897/3062457347.py:15: FutureWarning: DataFrame.fillna with 'method' is deprecated and will raise in a future version. Use obj.ffill() or obj.bfill() instead.\n",
            "  df_final_hourly = df_final_hourly.fillna(method='ffill')\n"
          ]
        },
        {
          "name": "stdout",
          "output_type": "stream",
          "text": [
            "Data inserted successfully into SQL database.\n"
          ]
        }
      ],
      "source": [
        "\n",
        "# Get a list of all csv files in the input folder\n",
        "csv_files = [csv_file for csv_file in os.listdir(directory_path) if csv_file.endswith('.csv')]\n",
        "\n",
        "for csv_file in csv_files:\n",
        "    # Read the csv file and only extract three required columns\n",
        "    df = pd.read_csv(os.path.join(directory_path, csv_file), usecols=[\"vw\", \"n\", \"datetime\"])\n",
        "    # Convert the 'datetime' column to a pandas datetime object\n",
        "    df['datetime'] = pd.to_datetime(df['datetime'])\n",
        "    df_time_interval = df[(df[\"datetime\"] >= start_time) & (df[\"datetime\"] <= end_time)]\n",
        "    # Resample the data to hourly intervals, taking the mean of price column and sum of num of transaction column\n",
        "    df_every_hour = df_time_interval.resample('H', on='datetime').agg({\"vw\": 'mean', \"n\": 'sum'})\n",
        "    # Fill missing values with the average of previous and next values\n",
        "    df_final_hourly = df_every_hour.interpolate(method='linear')\n",
        "    # For edge cases where the first or last values are missing, you can use 'nearest' method\n",
        "    df_final_hourly = df_final_hourly.fillna(method='ffill')\n",
        "    # Re-adding the timestamp column to the dataframe\n",
        "    df_final_hourly[\"timestamp\"] = df_final_hourly.index\n",
        "\n",
        "    collection_name = csv_file.split('.')[0] # get the filename without the extension\n",
        "    collection = db[collection_name]\n",
        "    collection.insert_many(df_final_hourly.to_dict(\"records\"))\n",
        "\n",
        "    # Convert DataFrame to SQL and insert into the database\n",
        "    with Session() as session:\n",
        "        try:\n",
        "            df_final_hourly.to_sql('fx_data', con=engine, if_exists='replace', index=False)\n",
        "            session.commit()\n",
        "            print(\"Data inserted successfully into SQL database.\")\n",
        "        except Exception as e:\n",
        "            session.rollback()\n",
        "            print(\"Error:\", e)\n"
      ]
    },
    {
      "cell_type": "markdown",
      "metadata": {
        "id": "AJd9OOuwjC4Q"
      },
      "source": [
        "Now data has been stored in mongoDB and sql DB for every hour."
      ]
    },
    {
      "cell_type": "markdown",
      "metadata": {
        "id": "EHQeItsjjC4Q"
      },
      "source": [
        "## Convert hourly data points to 6-hourly data points and calculate additional info like max, min, FD, volatility"
      ]
    },
    {
      "cell_type": "markdown",
      "metadata": {
        "id": "bYF9nMJNjC4Q"
      },
      "source": [
        "For this, we read the documents stored in MongoDB and aggregate data for six hours into a single entry. Also, add additional info about the data like volatility, FD, max, min in that time window."
      ]
    },
    {
      "cell_type": "code",
      "execution_count": 15,
      "metadata": {
        "id": "Ouxbn4uqjC4Q"
      },
      "outputs": [],
      "source": [
        "# Function to calculate Keltner Bands\n",
        "def calculate_keltner_bands(mean_val, vol_val):\n",
        "    keltner_upper = [mean_val + n * 0.025 * vol_val for n in range(1, 101)]\n",
        "    keltner_lower = [mean_val - n * 0.025 * vol_val for n in range(1, 101)]\n",
        "    return keltner_upper, keltner_lower\n",
        "\n",
        "# Function to calculate fractal dimension\n",
        "def calc_fd(prices, keltner_upper, keltner_lower):\n",
        "    if not prices or not keltner_upper or not keltner_lower:\n",
        "        return None\n",
        "\n",
        "    crossings = 0\n",
        "\n",
        "    for i in range(1, len(prices)):\n",
        "        prev_price, curr_price = prices[i-1], prices[i]\n",
        "\n",
        "        # Iterate through Keltner channels\n",
        "        for j in range(len(keltner_upper)-1):\n",
        "            upper_crossed_upward = prev_price <= keltner_upper[j] and curr_price > keltner_upper[j+1]\n",
        "            upper_crossed_downward = prev_price > keltner_upper[j+1] and curr_price <= keltner_upper[j]\n",
        "            \n",
        "            lower_crossed_downward = prev_price >= keltner_lower[j] and curr_price < keltner_lower[j+1]\n",
        "            lower_crossed_upward = prev_price < keltner_lower[j+1] and curr_price >= keltner_lower[j]\n",
        "\n",
        "            # Count crossings\n",
        "            crossings += upper_crossed_upward + upper_crossed_downward + lower_crossed_downward + lower_crossed_upward\n",
        "\n",
        "    price_range = max(prices) - min(prices)\n",
        "    if price_range == 0:\n",
        "        return 0  \n",
        "\n",
        "    fd = crossings / price_range\n",
        "    return fd"
      ]
    },
    {
      "cell_type": "code",
      "execution_count": 17,
      "metadata": {
        "id": "gdbEwA_UjC4Q",
        "outputId": "20d106f3-55d8-4045-ac48-168ae04c79e8"
      },
      "outputs": [
        {
          "name": "stderr",
          "output_type": "stream",
          "text": [
            "/var/folders/8p/1jyp2k_10tl7xfnqm54ljh4c0000gn/T/ipykernel_99897/2681359212.py:43: FutureWarning: Series.fillna with 'method' is deprecated and will raise in a future version. Use obj.ffill() or obj.bfill() instead.\n",
            "  df_6_hour[\"FD\"] = df_6_hour[\"FD\"].fillna(method=\"ffill\")\n"
          ]
        },
        {
          "name": "stdout",
          "output_type": "stream",
          "text": [
            "CSV saved: CADCHF.csv\n"
          ]
        },
        {
          "name": "stderr",
          "output_type": "stream",
          "text": [
            "/var/folders/8p/1jyp2k_10tl7xfnqm54ljh4c0000gn/T/ipykernel_99897/2681359212.py:43: FutureWarning: Series.fillna with 'method' is deprecated and will raise in a future version. Use obj.ffill() or obj.bfill() instead.\n",
            "  df_6_hour[\"FD\"] = df_6_hour[\"FD\"].fillna(method=\"ffill\")\n"
          ]
        },
        {
          "name": "stdout",
          "output_type": "stream",
          "text": [
            "CSV saved: USDPLN.csv\n"
          ]
        },
        {
          "name": "stderr",
          "output_type": "stream",
          "text": [
            "/var/folders/8p/1jyp2k_10tl7xfnqm54ljh4c0000gn/T/ipykernel_99897/2681359212.py:43: FutureWarning: Series.fillna with 'method' is deprecated and will raise in a future version. Use obj.ffill() or obj.bfill() instead.\n",
            "  df_6_hour[\"FD\"] = df_6_hour[\"FD\"].fillna(method=\"ffill\")\n"
          ]
        },
        {
          "name": "stdout",
          "output_type": "stream",
          "text": [
            "CSV saved: NZDCAD.csv\n"
          ]
        },
        {
          "name": "stderr",
          "output_type": "stream",
          "text": [
            "/var/folders/8p/1jyp2k_10tl7xfnqm54ljh4c0000gn/T/ipykernel_99897/2681359212.py:43: FutureWarning: Series.fillna with 'method' is deprecated and will raise in a future version. Use obj.ffill() or obj.bfill() instead.\n",
            "  df_6_hour[\"FD\"] = df_6_hour[\"FD\"].fillna(method=\"ffill\")\n"
          ]
        },
        {
          "name": "stdout",
          "output_type": "stream",
          "text": [
            "CSV saved: USDNOK.csv\n"
          ]
        },
        {
          "name": "stderr",
          "output_type": "stream",
          "text": [
            "/var/folders/8p/1jyp2k_10tl7xfnqm54ljh4c0000gn/T/ipykernel_99897/2681359212.py:43: FutureWarning: Series.fillna with 'method' is deprecated and will raise in a future version. Use obj.ffill() or obj.bfill() instead.\n",
            "  df_6_hour[\"FD\"] = df_6_hour[\"FD\"].fillna(method=\"ffill\")\n"
          ]
        },
        {
          "name": "stdout",
          "output_type": "stream",
          "text": [
            "CSV saved: EURSEK.csv\n"
          ]
        },
        {
          "name": "stderr",
          "output_type": "stream",
          "text": [
            "/var/folders/8p/1jyp2k_10tl7xfnqm54ljh4c0000gn/T/ipykernel_99897/2681359212.py:43: FutureWarning: Series.fillna with 'method' is deprecated and will raise in a future version. Use obj.ffill() or obj.bfill() instead.\n",
            "  df_6_hour[\"FD\"] = df_6_hour[\"FD\"].fillna(method=\"ffill\")\n"
          ]
        },
        {
          "name": "stdout",
          "output_type": "stream",
          "text": [
            "CSV saved: ZARJPY.csv\n"
          ]
        },
        {
          "name": "stderr",
          "output_type": "stream",
          "text": [
            "/var/folders/8p/1jyp2k_10tl7xfnqm54ljh4c0000gn/T/ipykernel_99897/2681359212.py:43: FutureWarning: Series.fillna with 'method' is deprecated and will raise in a future version. Use obj.ffill() or obj.bfill() instead.\n",
            "  df_6_hour[\"FD\"] = df_6_hour[\"FD\"].fillna(method=\"ffill\")\n"
          ]
        },
        {
          "name": "stdout",
          "output_type": "stream",
          "text": [
            "CSV saved: AUDNZD.csv\n"
          ]
        },
        {
          "name": "stderr",
          "output_type": "stream",
          "text": [
            "/var/folders/8p/1jyp2k_10tl7xfnqm54ljh4c0000gn/T/ipykernel_99897/2681359212.py:43: FutureWarning: Series.fillna with 'method' is deprecated and will raise in a future version. Use obj.ffill() or obj.bfill() instead.\n",
            "  df_6_hour[\"FD\"] = df_6_hour[\"FD\"].fillna(method=\"ffill\")\n"
          ]
        },
        {
          "name": "stdout",
          "output_type": "stream",
          "text": [
            "CSV saved: USDSEK.csv\n"
          ]
        },
        {
          "name": "stderr",
          "output_type": "stream",
          "text": [
            "/var/folders/8p/1jyp2k_10tl7xfnqm54ljh4c0000gn/T/ipykernel_99897/2681359212.py:43: FutureWarning: Series.fillna with 'method' is deprecated and will raise in a future version. Use obj.ffill() or obj.bfill() instead.\n",
            "  df_6_hour[\"FD\"] = df_6_hour[\"FD\"].fillna(method=\"ffill\")\n"
          ]
        },
        {
          "name": "stdout",
          "output_type": "stream",
          "text": [
            "CSV saved: AUDHKD.csv\n"
          ]
        },
        {
          "name": "stderr",
          "output_type": "stream",
          "text": [
            "/var/folders/8p/1jyp2k_10tl7xfnqm54ljh4c0000gn/T/ipykernel_99897/2681359212.py:43: FutureWarning: Series.fillna with 'method' is deprecated and will raise in a future version. Use obj.ffill() or obj.bfill() instead.\n",
            "  df_6_hour[\"FD\"] = df_6_hour[\"FD\"].fillna(method=\"ffill\")\n"
          ]
        },
        {
          "name": "stdout",
          "output_type": "stream",
          "text": [
            "CSV saved: GBPCAD.csv\n"
          ]
        },
        {
          "name": "stderr",
          "output_type": "stream",
          "text": [
            "/var/folders/8p/1jyp2k_10tl7xfnqm54ljh4c0000gn/T/ipykernel_99897/2681359212.py:43: FutureWarning: Series.fillna with 'method' is deprecated and will raise in a future version. Use obj.ffill() or obj.bfill() instead.\n",
            "  df_6_hour[\"FD\"] = df_6_hour[\"FD\"].fillna(method=\"ffill\")\n"
          ]
        },
        {
          "name": "stdout",
          "output_type": "stream",
          "text": [
            "CSV saved: GBPAUD.csv\n"
          ]
        },
        {
          "name": "stderr",
          "output_type": "stream",
          "text": [
            "/var/folders/8p/1jyp2k_10tl7xfnqm54ljh4c0000gn/T/ipykernel_99897/2681359212.py:43: FutureWarning: Series.fillna with 'method' is deprecated and will raise in a future version. Use obj.ffill() or obj.bfill() instead.\n",
            "  df_6_hour[\"FD\"] = df_6_hour[\"FD\"].fillna(method=\"ffill\")\n"
          ]
        },
        {
          "name": "stdout",
          "output_type": "stream",
          "text": [
            "CSV saved: CADHKD.csv\n"
          ]
        },
        {
          "name": "stderr",
          "output_type": "stream",
          "text": [
            "/var/folders/8p/1jyp2k_10tl7xfnqm54ljh4c0000gn/T/ipykernel_99897/2681359212.py:43: FutureWarning: Series.fillna with 'method' is deprecated and will raise in a future version. Use obj.ffill() or obj.bfill() instead.\n",
            "  df_6_hour[\"FD\"] = df_6_hour[\"FD\"].fillna(method=\"ffill\")\n"
          ]
        },
        {
          "name": "stdout",
          "output_type": "stream",
          "text": [
            "CSV saved: CADSGD.csv\n"
          ]
        },
        {
          "name": "stderr",
          "output_type": "stream",
          "text": [
            "/var/folders/8p/1jyp2k_10tl7xfnqm54ljh4c0000gn/T/ipykernel_99897/2681359212.py:43: FutureWarning: Series.fillna with 'method' is deprecated and will raise in a future version. Use obj.ffill() or obj.bfill() instead.\n",
            "  df_6_hour[\"FD\"] = df_6_hour[\"FD\"].fillna(method=\"ffill\")\n"
          ]
        },
        {
          "name": "stdout",
          "output_type": "stream",
          "text": [
            "CSV saved: EURCHF.csv\n"
          ]
        },
        {
          "name": "stderr",
          "output_type": "stream",
          "text": [
            "/var/folders/8p/1jyp2k_10tl7xfnqm54ljh4c0000gn/T/ipykernel_99897/2681359212.py:43: FutureWarning: Series.fillna with 'method' is deprecated and will raise in a future version. Use obj.ffill() or obj.bfill() instead.\n",
            "  df_6_hour[\"FD\"] = df_6_hour[\"FD\"].fillna(method=\"ffill\")\n"
          ]
        },
        {
          "name": "stdout",
          "output_type": "stream",
          "text": [
            "CSV saved: EURUSD.csv\n"
          ]
        },
        {
          "name": "stderr",
          "output_type": "stream",
          "text": [
            "/var/folders/8p/1jyp2k_10tl7xfnqm54ljh4c0000gn/T/ipykernel_99897/2681359212.py:43: FutureWarning: Series.fillna with 'method' is deprecated and will raise in a future version. Use obj.ffill() or obj.bfill() instead.\n",
            "  df_6_hour[\"FD\"] = df_6_hour[\"FD\"].fillna(method=\"ffill\")\n"
          ]
        },
        {
          "name": "stdout",
          "output_type": "stream",
          "text": [
            "CSV saved: USDTHB.csv\n"
          ]
        },
        {
          "name": "stderr",
          "output_type": "stream",
          "text": [
            "/var/folders/8p/1jyp2k_10tl7xfnqm54ljh4c0000gn/T/ipykernel_99897/2681359212.py:43: FutureWarning: Series.fillna with 'method' is deprecated and will raise in a future version. Use obj.ffill() or obj.bfill() instead.\n",
            "  df_6_hour[\"FD\"] = df_6_hour[\"FD\"].fillna(method=\"ffill\")\n"
          ]
        },
        {
          "name": "stdout",
          "output_type": "stream",
          "text": [
            "CSV saved: USDJPY.csv\n"
          ]
        },
        {
          "name": "stderr",
          "output_type": "stream",
          "text": [
            "/var/folders/8p/1jyp2k_10tl7xfnqm54ljh4c0000gn/T/ipykernel_99897/2681359212.py:43: FutureWarning: Series.fillna with 'method' is deprecated and will raise in a future version. Use obj.ffill() or obj.bfill() instead.\n",
            "  df_6_hour[\"FD\"] = df_6_hour[\"FD\"].fillna(method=\"ffill\")\n"
          ]
        },
        {
          "name": "stdout",
          "output_type": "stream",
          "text": [
            "CSV saved: USDBRL.csv\n"
          ]
        },
        {
          "name": "stderr",
          "output_type": "stream",
          "text": [
            "/var/folders/8p/1jyp2k_10tl7xfnqm54ljh4c0000gn/T/ipykernel_99897/2681359212.py:43: FutureWarning: Series.fillna with 'method' is deprecated and will raise in a future version. Use obj.ffill() or obj.bfill() instead.\n",
            "  df_6_hour[\"FD\"] = df_6_hour[\"FD\"].fillna(method=\"ffill\")\n"
          ]
        },
        {
          "name": "stdout",
          "output_type": "stream",
          "text": [
            "CSV saved: AUDCAD.csv\n"
          ]
        },
        {
          "name": "stderr",
          "output_type": "stream",
          "text": [
            "/var/folders/8p/1jyp2k_10tl7xfnqm54ljh4c0000gn/T/ipykernel_99897/2681359212.py:43: FutureWarning: Series.fillna with 'method' is deprecated and will raise in a future version. Use obj.ffill() or obj.bfill() instead.\n",
            "  df_6_hour[\"FD\"] = df_6_hour[\"FD\"].fillna(method=\"ffill\")\n"
          ]
        },
        {
          "name": "stdout",
          "output_type": "stream",
          "text": [
            "CSV saved: GBPJPY.csv\n"
          ]
        },
        {
          "name": "stderr",
          "output_type": "stream",
          "text": [
            "/var/folders/8p/1jyp2k_10tl7xfnqm54ljh4c0000gn/T/ipykernel_99897/2681359212.py:43: FutureWarning: Series.fillna with 'method' is deprecated and will raise in a future version. Use obj.ffill() or obj.bfill() instead.\n",
            "  df_6_hour[\"FD\"] = df_6_hour[\"FD\"].fillna(method=\"ffill\")\n"
          ]
        },
        {
          "name": "stdout",
          "output_type": "stream",
          "text": [
            "CSV saved: CADJPY.csv\n"
          ]
        },
        {
          "name": "stderr",
          "output_type": "stream",
          "text": [
            "/var/folders/8p/1jyp2k_10tl7xfnqm54ljh4c0000gn/T/ipykernel_99897/2681359212.py:43: FutureWarning: Series.fillna with 'method' is deprecated and will raise in a future version. Use obj.ffill() or obj.bfill() instead.\n",
            "  df_6_hour[\"FD\"] = df_6_hour[\"FD\"].fillna(method=\"ffill\")\n"
          ]
        },
        {
          "name": "stdout",
          "output_type": "stream",
          "text": [
            "CSV saved: AUDSGD.csv\n"
          ]
        },
        {
          "name": "stderr",
          "output_type": "stream",
          "text": [
            "/var/folders/8p/1jyp2k_10tl7xfnqm54ljh4c0000gn/T/ipykernel_99897/2681359212.py:43: FutureWarning: Series.fillna with 'method' is deprecated and will raise in a future version. Use obj.ffill() or obj.bfill() instead.\n",
            "  df_6_hour[\"FD\"] = df_6_hour[\"FD\"].fillna(method=\"ffill\")\n"
          ]
        },
        {
          "name": "stdout",
          "output_type": "stream",
          "text": [
            "CSV saved: USDHUF.csv\n"
          ]
        },
        {
          "name": "stderr",
          "output_type": "stream",
          "text": [
            "/var/folders/8p/1jyp2k_10tl7xfnqm54ljh4c0000gn/T/ipykernel_99897/2681359212.py:43: FutureWarning: Series.fillna with 'method' is deprecated and will raise in a future version. Use obj.ffill() or obj.bfill() instead.\n",
            "  df_6_hour[\"FD\"] = df_6_hour[\"FD\"].fillna(method=\"ffill\")\n"
          ]
        },
        {
          "name": "stdout",
          "output_type": "stream",
          "text": [
            "CSV saved: CHFHKD.csv\n"
          ]
        },
        {
          "name": "stderr",
          "output_type": "stream",
          "text": [
            "/var/folders/8p/1jyp2k_10tl7xfnqm54ljh4c0000gn/T/ipykernel_99897/2681359212.py:43: FutureWarning: Series.fillna with 'method' is deprecated and will raise in a future version. Use obj.ffill() or obj.bfill() instead.\n",
            "  df_6_hour[\"FD\"] = df_6_hour[\"FD\"].fillna(method=\"ffill\")\n"
          ]
        },
        {
          "name": "stdout",
          "output_type": "stream",
          "text": [
            "CSV saved: GBPUSD.csv\n"
          ]
        },
        {
          "name": "stderr",
          "output_type": "stream",
          "text": [
            "/var/folders/8p/1jyp2k_10tl7xfnqm54ljh4c0000gn/T/ipykernel_99897/2681359212.py:43: FutureWarning: Series.fillna with 'method' is deprecated and will raise in a future version. Use obj.ffill() or obj.bfill() instead.\n",
            "  df_6_hour[\"FD\"] = df_6_hour[\"FD\"].fillna(method=\"ffill\")\n"
          ]
        },
        {
          "name": "stdout",
          "output_type": "stream",
          "text": [
            "CSV saved: USDCHF.csv\n"
          ]
        },
        {
          "name": "stderr",
          "output_type": "stream",
          "text": [
            "/var/folders/8p/1jyp2k_10tl7xfnqm54ljh4c0000gn/T/ipykernel_99897/2681359212.py:43: FutureWarning: Series.fillna with 'method' is deprecated and will raise in a future version. Use obj.ffill() or obj.bfill() instead.\n",
            "  df_6_hour[\"FD\"] = df_6_hour[\"FD\"].fillna(method=\"ffill\")\n"
          ]
        },
        {
          "name": "stdout",
          "output_type": "stream",
          "text": [
            "CSV saved: EURJPY.csv\n"
          ]
        },
        {
          "name": "stderr",
          "output_type": "stream",
          "text": [
            "/var/folders/8p/1jyp2k_10tl7xfnqm54ljh4c0000gn/T/ipykernel_99897/2681359212.py:43: FutureWarning: Series.fillna with 'method' is deprecated and will raise in a future version. Use obj.ffill() or obj.bfill() instead.\n",
            "  df_6_hour[\"FD\"] = df_6_hour[\"FD\"].fillna(method=\"ffill\")\n"
          ]
        },
        {
          "name": "stdout",
          "output_type": "stream",
          "text": [
            "CSV saved: AUDJPY.csv\n"
          ]
        },
        {
          "name": "stderr",
          "output_type": "stream",
          "text": [
            "/var/folders/8p/1jyp2k_10tl7xfnqm54ljh4c0000gn/T/ipykernel_99897/2681359212.py:43: FutureWarning: Series.fillna with 'method' is deprecated and will raise in a future version. Use obj.ffill() or obj.bfill() instead.\n",
            "  df_6_hour[\"FD\"] = df_6_hour[\"FD\"].fillna(method=\"ffill\")\n"
          ]
        },
        {
          "name": "stdout",
          "output_type": "stream",
          "text": [
            "CSV saved: HKDJPY.csv\n"
          ]
        },
        {
          "name": "stderr",
          "output_type": "stream",
          "text": [
            "/var/folders/8p/1jyp2k_10tl7xfnqm54ljh4c0000gn/T/ipykernel_99897/2681359212.py:43: FutureWarning: Series.fillna with 'method' is deprecated and will raise in a future version. Use obj.ffill() or obj.bfill() instead.\n",
            "  df_6_hour[\"FD\"] = df_6_hour[\"FD\"].fillna(method=\"ffill\")\n"
          ]
        },
        {
          "name": "stdout",
          "output_type": "stream",
          "text": [
            "CSV saved: AUDCHF.csv\n"
          ]
        },
        {
          "name": "stderr",
          "output_type": "stream",
          "text": [
            "/var/folders/8p/1jyp2k_10tl7xfnqm54ljh4c0000gn/T/ipykernel_99897/2681359212.py:43: FutureWarning: Series.fillna with 'method' is deprecated and will raise in a future version. Use obj.ffill() or obj.bfill() instead.\n",
            "  df_6_hour[\"FD\"] = df_6_hour[\"FD\"].fillna(method=\"ffill\")\n"
          ]
        },
        {
          "name": "stdout",
          "output_type": "stream",
          "text": [
            "CSV saved: EURHKD.csv\n"
          ]
        },
        {
          "name": "stderr",
          "output_type": "stream",
          "text": [
            "/var/folders/8p/1jyp2k_10tl7xfnqm54ljh4c0000gn/T/ipykernel_99897/2681359212.py:43: FutureWarning: Series.fillna with 'method' is deprecated and will raise in a future version. Use obj.ffill() or obj.bfill() instead.\n",
            "  df_6_hour[\"FD\"] = df_6_hour[\"FD\"].fillna(method=\"ffill\")\n"
          ]
        },
        {
          "name": "stdout",
          "output_type": "stream",
          "text": [
            "CSV saved: EURCZK.csv\n"
          ]
        },
        {
          "name": "stderr",
          "output_type": "stream",
          "text": [
            "/var/folders/8p/1jyp2k_10tl7xfnqm54ljh4c0000gn/T/ipykernel_99897/2681359212.py:43: FutureWarning: Series.fillna with 'method' is deprecated and will raise in a future version. Use obj.ffill() or obj.bfill() instead.\n",
            "  df_6_hour[\"FD\"] = df_6_hour[\"FD\"].fillna(method=\"ffill\")\n"
          ]
        },
        {
          "name": "stdout",
          "output_type": "stream",
          "text": [
            "CSV saved: SGDJPY.csv\n"
          ]
        },
        {
          "name": "stderr",
          "output_type": "stream",
          "text": [
            "/var/folders/8p/1jyp2k_10tl7xfnqm54ljh4c0000gn/T/ipykernel_99897/2681359212.py:43: FutureWarning: Series.fillna with 'method' is deprecated and will raise in a future version. Use obj.ffill() or obj.bfill() instead.\n",
            "  df_6_hour[\"FD\"] = df_6_hour[\"FD\"].fillna(method=\"ffill\")\n"
          ]
        },
        {
          "name": "stdout",
          "output_type": "stream",
          "text": [
            "CSV saved: EURGBP.csv\n"
          ]
        },
        {
          "name": "stderr",
          "output_type": "stream",
          "text": [
            "/var/folders/8p/1jyp2k_10tl7xfnqm54ljh4c0000gn/T/ipykernel_99897/2681359212.py:43: FutureWarning: Series.fillna with 'method' is deprecated and will raise in a future version. Use obj.ffill() or obj.bfill() instead.\n",
            "  df_6_hour[\"FD\"] = df_6_hour[\"FD\"].fillna(method=\"ffill\")\n"
          ]
        },
        {
          "name": "stdout",
          "output_type": "stream",
          "text": [
            "CSV saved: EURAUD.csv\n"
          ]
        },
        {
          "name": "stderr",
          "output_type": "stream",
          "text": [
            "/var/folders/8p/1jyp2k_10tl7xfnqm54ljh4c0000gn/T/ipykernel_99897/2681359212.py:43: FutureWarning: Series.fillna with 'method' is deprecated and will raise in a future version. Use obj.ffill() or obj.bfill() instead.\n",
            "  df_6_hour[\"FD\"] = df_6_hour[\"FD\"].fillna(method=\"ffill\")\n"
          ]
        },
        {
          "name": "stdout",
          "output_type": "stream",
          "text": [
            "CSV saved: EURZAR.csv\n"
          ]
        },
        {
          "name": "stderr",
          "output_type": "stream",
          "text": [
            "/var/folders/8p/1jyp2k_10tl7xfnqm54ljh4c0000gn/T/ipykernel_99897/2681359212.py:43: FutureWarning: Series.fillna with 'method' is deprecated and will raise in a future version. Use obj.ffill() or obj.bfill() instead.\n",
            "  df_6_hour[\"FD\"] = df_6_hour[\"FD\"].fillna(method=\"ffill\")\n"
          ]
        },
        {
          "name": "stdout",
          "output_type": "stream",
          "text": [
            "CSV saved: EURHUF.csv\n"
          ]
        },
        {
          "name": "stderr",
          "output_type": "stream",
          "text": [
            "/var/folders/8p/1jyp2k_10tl7xfnqm54ljh4c0000gn/T/ipykernel_99897/2681359212.py:43: FutureWarning: Series.fillna with 'method' is deprecated and will raise in a future version. Use obj.ffill() or obj.bfill() instead.\n",
            "  df_6_hour[\"FD\"] = df_6_hour[\"FD\"].fillna(method=\"ffill\")\n"
          ]
        },
        {
          "name": "stdout",
          "output_type": "stream",
          "text": [
            "CSV saved: USDZAR.csv\n"
          ]
        },
        {
          "name": "stderr",
          "output_type": "stream",
          "text": [
            "/var/folders/8p/1jyp2k_10tl7xfnqm54ljh4c0000gn/T/ipykernel_99897/2681359212.py:43: FutureWarning: Series.fillna with 'method' is deprecated and will raise in a future version. Use obj.ffill() or obj.bfill() instead.\n",
            "  df_6_hour[\"FD\"] = df_6_hour[\"FD\"].fillna(method=\"ffill\")\n"
          ]
        },
        {
          "name": "stdout",
          "output_type": "stream",
          "text": [
            "CSV saved: USDTRY.csv\n"
          ]
        },
        {
          "name": "stderr",
          "output_type": "stream",
          "text": [
            "/var/folders/8p/1jyp2k_10tl7xfnqm54ljh4c0000gn/T/ipykernel_99897/2681359212.py:43: FutureWarning: Series.fillna with 'method' is deprecated and will raise in a future version. Use obj.ffill() or obj.bfill() instead.\n",
            "  df_6_hour[\"FD\"] = df_6_hour[\"FD\"].fillna(method=\"ffill\")\n"
          ]
        },
        {
          "name": "stdout",
          "output_type": "stream",
          "text": [
            "CSV saved: USDCNY.csv\n"
          ]
        },
        {
          "name": "stderr",
          "output_type": "stream",
          "text": [
            "/var/folders/8p/1jyp2k_10tl7xfnqm54ljh4c0000gn/T/ipykernel_99897/2681359212.py:43: FutureWarning: Series.fillna with 'method' is deprecated and will raise in a future version. Use obj.ffill() or obj.bfill() instead.\n",
            "  df_6_hour[\"FD\"] = df_6_hour[\"FD\"].fillna(method=\"ffill\")\n"
          ]
        },
        {
          "name": "stdout",
          "output_type": "stream",
          "text": [
            "CSV saved: GBPPLN.csv\n"
          ]
        },
        {
          "name": "stderr",
          "output_type": "stream",
          "text": [
            "/var/folders/8p/1jyp2k_10tl7xfnqm54ljh4c0000gn/T/ipykernel_99897/2681359212.py:43: FutureWarning: Series.fillna with 'method' is deprecated and will raise in a future version. Use obj.ffill() or obj.bfill() instead.\n",
            "  df_6_hour[\"FD\"] = df_6_hour[\"FD\"].fillna(method=\"ffill\")\n"
          ]
        },
        {
          "name": "stdout",
          "output_type": "stream",
          "text": [
            "CSV saved: GBPHKD.csv\n"
          ]
        },
        {
          "name": "stderr",
          "output_type": "stream",
          "text": [
            "/var/folders/8p/1jyp2k_10tl7xfnqm54ljh4c0000gn/T/ipykernel_99897/2681359212.py:43: FutureWarning: Series.fillna with 'method' is deprecated and will raise in a future version. Use obj.ffill() or obj.bfill() instead.\n",
            "  df_6_hour[\"FD\"] = df_6_hour[\"FD\"].fillna(method=\"ffill\")\n"
          ]
        },
        {
          "name": "stdout",
          "output_type": "stream",
          "text": [
            "CSV saved: NZDCHF.csv\n"
          ]
        },
        {
          "name": "stderr",
          "output_type": "stream",
          "text": [
            "/var/folders/8p/1jyp2k_10tl7xfnqm54ljh4c0000gn/T/ipykernel_99897/2681359212.py:43: FutureWarning: Series.fillna with 'method' is deprecated and will raise in a future version. Use obj.ffill() or obj.bfill() instead.\n",
            "  df_6_hour[\"FD\"] = df_6_hour[\"FD\"].fillna(method=\"ffill\")\n"
          ]
        },
        {
          "name": "stdout",
          "output_type": "stream",
          "text": [
            "CSV saved: EURCAD.csv\n"
          ]
        },
        {
          "name": "stderr",
          "output_type": "stream",
          "text": [
            "/var/folders/8p/1jyp2k_10tl7xfnqm54ljh4c0000gn/T/ipykernel_99897/2681359212.py:43: FutureWarning: Series.fillna with 'method' is deprecated and will raise in a future version. Use obj.ffill() or obj.bfill() instead.\n",
            "  df_6_hour[\"FD\"] = df_6_hour[\"FD\"].fillna(method=\"ffill\")\n"
          ]
        },
        {
          "name": "stdout",
          "output_type": "stream",
          "text": [
            "CSV saved: USDMXN.csv\n"
          ]
        },
        {
          "name": "stderr",
          "output_type": "stream",
          "text": [
            "/var/folders/8p/1jyp2k_10tl7xfnqm54ljh4c0000gn/T/ipykernel_99897/2681359212.py:43: FutureWarning: Series.fillna with 'method' is deprecated and will raise in a future version. Use obj.ffill() or obj.bfill() instead.\n",
            "  df_6_hour[\"FD\"] = df_6_hour[\"FD\"].fillna(method=\"ffill\")\n"
          ]
        },
        {
          "name": "stdout",
          "output_type": "stream",
          "text": [
            "CSV saved: EURTRY.csv\n"
          ]
        },
        {
          "name": "stderr",
          "output_type": "stream",
          "text": [
            "/var/folders/8p/1jyp2k_10tl7xfnqm54ljh4c0000gn/T/ipykernel_99897/2681359212.py:43: FutureWarning: Series.fillna with 'method' is deprecated and will raise in a future version. Use obj.ffill() or obj.bfill() instead.\n",
            "  df_6_hour[\"FD\"] = df_6_hour[\"FD\"].fillna(method=\"ffill\")\n"
          ]
        },
        {
          "name": "stdout",
          "output_type": "stream",
          "text": [
            "CSV saved: NZDSGD.csv\n"
          ]
        },
        {
          "name": "stderr",
          "output_type": "stream",
          "text": [
            "/var/folders/8p/1jyp2k_10tl7xfnqm54ljh4c0000gn/T/ipykernel_99897/2681359212.py:43: FutureWarning: Series.fillna with 'method' is deprecated and will raise in a future version. Use obj.ffill() or obj.bfill() instead.\n",
            "  df_6_hour[\"FD\"] = df_6_hour[\"FD\"].fillna(method=\"ffill\")\n"
          ]
        },
        {
          "name": "stdout",
          "output_type": "stream",
          "text": [
            "CSV saved: USDHKD.csv\n"
          ]
        },
        {
          "name": "stderr",
          "output_type": "stream",
          "text": [
            "/var/folders/8p/1jyp2k_10tl7xfnqm54ljh4c0000gn/T/ipykernel_99897/2681359212.py:43: FutureWarning: Series.fillna with 'method' is deprecated and will raise in a future version. Use obj.ffill() or obj.bfill() instead.\n",
            "  df_6_hour[\"FD\"] = df_6_hour[\"FD\"].fillna(method=\"ffill\")\n"
          ]
        },
        {
          "name": "stdout",
          "output_type": "stream",
          "text": [
            "CSV saved: USDSGD.csv\n"
          ]
        },
        {
          "name": "stderr",
          "output_type": "stream",
          "text": [
            "/var/folders/8p/1jyp2k_10tl7xfnqm54ljh4c0000gn/T/ipykernel_99897/2681359212.py:43: FutureWarning: Series.fillna with 'method' is deprecated and will raise in a future version. Use obj.ffill() or obj.bfill() instead.\n",
            "  df_6_hour[\"FD\"] = df_6_hour[\"FD\"].fillna(method=\"ffill\")\n"
          ]
        },
        {
          "name": "stdout",
          "output_type": "stream",
          "text": [
            "CSV saved: CHFJPY.csv\n"
          ]
        },
        {
          "name": "stderr",
          "output_type": "stream",
          "text": [
            "/var/folders/8p/1jyp2k_10tl7xfnqm54ljh4c0000gn/T/ipykernel_99897/2681359212.py:43: FutureWarning: Series.fillna with 'method' is deprecated and will raise in a future version. Use obj.ffill() or obj.bfill() instead.\n",
            "  df_6_hour[\"FD\"] = df_6_hour[\"FD\"].fillna(method=\"ffill\")\n"
          ]
        },
        {
          "name": "stdout",
          "output_type": "stream",
          "text": [
            "CSV saved: CHFZAR.csv\n"
          ]
        },
        {
          "name": "stderr",
          "output_type": "stream",
          "text": [
            "/var/folders/8p/1jyp2k_10tl7xfnqm54ljh4c0000gn/T/ipykernel_99897/2681359212.py:43: FutureWarning: Series.fillna with 'method' is deprecated and will raise in a future version. Use obj.ffill() or obj.bfill() instead.\n",
            "  df_6_hour[\"FD\"] = df_6_hour[\"FD\"].fillna(method=\"ffill\")\n"
          ]
        },
        {
          "name": "stdout",
          "output_type": "stream",
          "text": [
            "CSV saved: GBPNZD.csv\n"
          ]
        },
        {
          "name": "stderr",
          "output_type": "stream",
          "text": [
            "/var/folders/8p/1jyp2k_10tl7xfnqm54ljh4c0000gn/T/ipykernel_99897/2681359212.py:43: FutureWarning: Series.fillna with 'method' is deprecated and will raise in a future version. Use obj.ffill() or obj.bfill() instead.\n",
            "  df_6_hour[\"FD\"] = df_6_hour[\"FD\"].fillna(method=\"ffill\")\n"
          ]
        },
        {
          "name": "stdout",
          "output_type": "stream",
          "text": [
            "CSV saved: EURDKK.csv\n"
          ]
        },
        {
          "name": "stderr",
          "output_type": "stream",
          "text": [
            "/var/folders/8p/1jyp2k_10tl7xfnqm54ljh4c0000gn/T/ipykernel_99897/2681359212.py:43: FutureWarning: Series.fillna with 'method' is deprecated and will raise in a future version. Use obj.ffill() or obj.bfill() instead.\n",
            "  df_6_hour[\"FD\"] = df_6_hour[\"FD\"].fillna(method=\"ffill\")\n"
          ]
        },
        {
          "name": "stdout",
          "output_type": "stream",
          "text": [
            "CSV saved: USDDKK.csv\n"
          ]
        },
        {
          "name": "stderr",
          "output_type": "stream",
          "text": [
            "/var/folders/8p/1jyp2k_10tl7xfnqm54ljh4c0000gn/T/ipykernel_99897/2681359212.py:43: FutureWarning: Series.fillna with 'method' is deprecated and will raise in a future version. Use obj.ffill() or obj.bfill() instead.\n",
            "  df_6_hour[\"FD\"] = df_6_hour[\"FD\"].fillna(method=\"ffill\")\n"
          ]
        },
        {
          "name": "stdout",
          "output_type": "stream",
          "text": [
            "CSV saved: NZDHKD.csv\n"
          ]
        },
        {
          "name": "stderr",
          "output_type": "stream",
          "text": [
            "/var/folders/8p/1jyp2k_10tl7xfnqm54ljh4c0000gn/T/ipykernel_99897/2681359212.py:43: FutureWarning: Series.fillna with 'method' is deprecated and will raise in a future version. Use obj.ffill() or obj.bfill() instead.\n",
            "  df_6_hour[\"FD\"] = df_6_hour[\"FD\"].fillna(method=\"ffill\")\n"
          ]
        },
        {
          "name": "stdout",
          "output_type": "stream",
          "text": [
            "CSV saved: NZDJPY.csv\n"
          ]
        },
        {
          "name": "stderr",
          "output_type": "stream",
          "text": [
            "/var/folders/8p/1jyp2k_10tl7xfnqm54ljh4c0000gn/T/ipykernel_99897/2681359212.py:43: FutureWarning: Series.fillna with 'method' is deprecated and will raise in a future version. Use obj.ffill() or obj.bfill() instead.\n",
            "  df_6_hour[\"FD\"] = df_6_hour[\"FD\"].fillna(method=\"ffill\")\n"
          ]
        },
        {
          "name": "stdout",
          "output_type": "stream",
          "text": [
            "CSV saved: SGDCHF.csv\n",
            "CSV saved: EURNOK.csv\n"
          ]
        },
        {
          "name": "stderr",
          "output_type": "stream",
          "text": [
            "/var/folders/8p/1jyp2k_10tl7xfnqm54ljh4c0000gn/T/ipykernel_99897/2681359212.py:43: FutureWarning: Series.fillna with 'method' is deprecated and will raise in a future version. Use obj.ffill() or obj.bfill() instead.\n",
            "  df_6_hour[\"FD\"] = df_6_hour[\"FD\"].fillna(method=\"ffill\")\n"
          ]
        }
      ],
      "source": [
        "fx_collections = db.list_collection_names()\n",
        "# Looping through each collection in the list of collections to calculate the asked parameters for each currency pair.\n",
        "\n",
        "for collection_name in fx_collections:\n",
        "    fx_collection = db[collection_name]\n",
        "    # Converting collections to dataframes\n",
        "    df_1_hour = pd.DataFrame(fx_collection.find({}, {\"_id\": 0}))\n",
        "\n",
        "    # Reorganise the data from hourly basis to 6hour basis\n",
        "    df_6_hour = df_1_hour.resample('6H', on='timestamp').agg(\n",
        "        VWAP = pd.NamedAgg(column='vw', aggfunc=pd.Series.mean),\n",
        "        Liquidity = pd.NamedAgg(column='n', aggfunc=pd.Series.mean),\n",
        "        Max = pd.NamedAgg(column='vw', aggfunc=pd.Series.max),\n",
        "        Min = pd.NamedAgg(column='vw', aggfunc=pd.Series.min)\n",
        "    )\n",
        "\n",
        "    # Re-adding the timestamp column to the dataframe as due to resampling the index shifts.\n",
        "    df_6_hour[\"Timestamp\"] = df_6_hour.index\n",
        "\n",
        "    # Adding a new column which calculates \"Volatility\"\n",
        "    df_6_hour[\"Volatility\"] = (df_6_hour[\"Max\"] - df_6_hour[\"Min\"]) / df_6_hour[\"VWAP\"]\n",
        "\n",
        "    # Calculating FD\n",
        "    fd_arr = [0]\n",
        "\n",
        "    for i, (mean_val, max_val, min_val, vol) in df_6_hour[[\"VWAP\", \"Max\", \"Min\", \"Volatility\"]][:-1].iterrows():\n",
        "            #Deal with values when volume is 0, we assign FD value as NaN so it can be dealt with later on\n",
        "            if vol == 0:\n",
        "                fd_arr.append(np.nan)\n",
        "                continue\n",
        "            start_time, end_time = i, i + pd.Timedelta(hours=6)\n",
        "            upper_bands, lower_bands = calculate_keltner_bands(mean_val, vol)\n",
        "            prices = df_1_hour[(df_1_hour[\"timestamp\"] >= start_time) & (df_1_hour[\"timestamp\"] < end_time)][\"vw\"].tolist()\n",
        "            fd_arr.append(calc_fd(prices, upper_bands, lower_bands))\n",
        "\n",
        "\n",
        "    #add a new column to the dataframe and assign the calculated fd values to it.\n",
        "    df_6_hour[\"FD\"] = fd_arr\n",
        "    df_6_hour = df_6_hour.interpolate(method='linear')\n",
        "    df_6_hour[\"FD\"] = df_6_hour[\"FD\"].fillna(method=\"ffill\")\n",
        "\n",
        "\n",
        "    file_path = r'/Users/yogyasharma/Downloads/MG-GY Data Engineering/HW3/{}.csv'.format(collection_name)\n",
        "\n",
        "    # Save DataFrame to CSV at the specified path\n",
        "    df_6_hour.to_csv(file_path)  \n",
        "    print(\"CSV saved:\", collection_name+\".csv\")\n"
      ]
    },
    {
      "cell_type": "markdown",
      "metadata": {
        "id": "AWSAtylxjC4Q"
      },
      "source": [
        "Now all data has been converted into 6 hourly data points along with data pointers like volatility, FD, max, min, mean etc. Next, we run pycaret module to see and compare the predictions."
      ]
    }
  ],
  "metadata": {
    "colab": {
      "provenance": []
    },
    "kernelspec": {
      "display_name": "base",
      "language": "python",
      "name": "python3"
    },
    "language_info": {
      "codemirror_mode": {
        "name": "ipython",
        "version": 3
      },
      "file_extension": ".py",
      "mimetype": "text/x-python",
      "name": "python",
      "nbconvert_exporter": "python",
      "pygments_lexer": "ipython3",
      "version": "3.10.14"
    }
  },
  "nbformat": 4,
  "nbformat_minor": 0
}
