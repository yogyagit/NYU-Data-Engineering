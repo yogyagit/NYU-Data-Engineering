{
 "cells": [
  {
   "cell_type": "code",
   "execution_count": 9,
   "metadata": {},
   "outputs": [],
   "source": [
    "from sqlalchemy import create_engine, func\n",
    "from sqlalchemy.orm import sessionmaker\n",
    "from pymongo import MongoClient\n",
    "import sqlite3\n",
    "\n",
    "SQL_DATABASE_PATH = 'my_sql.db'\n",
    "MONGO_DB_URL = \"mongodb://localhost:27017/\"\n",
    "MONGO_DB_NAME = \"DE\"\n",
    "MONGO_COLLECTION_NAME = \"fx\"\n",
    "sqlite_file = 'my_sql.db'"
   ]
  },
  {
   "cell_type": "code",
   "execution_count": 10,
   "metadata": {},
   "outputs": [],
   "source": [
    "# SQLite database\n",
    "def calculate_average_sqlite():\n",
    "\n",
    "    conn = sqlite3.connect(sqlite_file)\n",
    "    cur = conn.cursor()\n",
    "\n",
    "    cur.execute(\"SELECT pair, AVG(rate) FROM forex_data GROUP BY pair;\")\n",
    "\n",
    "    data = cur.fetchall()\n",
    "\n",
    "    # Calculate average of all rates\n",
    "    cur.execute(\"SELECT AVG(rate) FROM forex_data\")\n",
    "    overall_average = cur.fetchone()[0]\n",
    "\n",
    "    cur.close()\n",
    "    conn.close()\n",
    "\n",
    "    return data, overall_average"
   ]
  },
  {
   "cell_type": "code",
   "execution_count": 11,
   "metadata": {},
   "outputs": [],
   "source": [
    "# MongoDB\n",
    "def calculate_average_mongodb():\n",
    "    client = MongoClient(MONGO_DB_URL)\n",
    "    db = client[MONGO_DB_NAME]\n",
    "    collection = db[MONGO_COLLECTION_NAME]\n",
    "\n",
    "    averages = {}\n",
    "\n",
    "    for pair in [\"EUR,USD\", \"USD,GBP\", \"GBP,CAD\"]:\n",
    "        pipeline = [\n",
    "            {\"$match\": {\"pair\": pair}},\n",
    "            {\"$group\": {\"_id\": None, \"averageRate\": {\"$avg\": \"$rate\"}}}\n",
    "        ]\n",
    "        result = list(collection.aggregate(pipeline))\n",
    "        if result:\n",
    "            average = result[0][\"averageRate\"]\n",
    "            averages[pair] = average\n",
    "        else:\n",
    "            averages[pair] = None\n",
    "\n",
    "    # Calculate average of all rates\n",
    "    pipeline_all = [{\"$group\": {\"_id\": None, \"overall_average\": {\"$avg\": \"$rate\"}}}]\n",
    "    result_all = list(collection.aggregate(pipeline_all))\n",
    "    overall_average = result_all[0][\"overall_average\"] if result_all else None\n",
    "\n",
    "    client.close()\n",
    "    return averages, overall_average"
   ]
  },
  {
   "cell_type": "code",
   "execution_count": 12,
   "metadata": {},
   "outputs": [
    {
     "name": "stdout",
     "output_type": "stream",
     "text": [
      "SQLite Averages (pairwise): [('EUR,USD', 1.0847482929441774), ('GBP,CAD', 1.7200000000002393), ('USD,GBP', 0.7852517070560839)]\n",
      "SQLite Average (all data points): 1.1966666666673498\n",
      "MongoDB Averages (pairwise): {'EUR,USD': 1.08, 'USD,GBP': 0.79, 'GBP,CAD': 1.72}\n",
      "MongoDB Average (all data points): 1.1966666666666668\n"
     ]
    }
   ],
   "source": [
    "def main():\n",
    "    sqlite_averages, sqlite_overall_average = calculate_average_sqlite()\n",
    "    print(\"SQLite Averages (pairwise):\", sqlite_averages)\n",
    "    print(\"SQLite Average (all data points):\", sqlite_overall_average)\n",
    "\n",
    "    mongo_averages, mongo_overall_average = calculate_average_mongodb()\n",
    "    print(\"MongoDB Averages (pairwise):\", mongo_averages)\n",
    "    print(\"MongoDB Average (all data points):\", mongo_overall_average)\n",
    "\n",
    "if __name__ == \"__main__\":\n",
    "    main()"
   ]
  }
 ],
 "metadata": {
  "kernelspec": {
   "display_name": "MGGY-DE",
   "language": "python",
   "name": "python3"
  },
  "language_info": {
   "codemirror_mode": {
    "name": "ipython",
    "version": 3
   },
   "file_extension": ".py",
   "mimetype": "text/x-python",
   "name": "python",
   "nbconvert_exporter": "python",
   "pygments_lexer": "ipython3",
   "version": "3.10.13"
  }
 },
 "nbformat": 4,
 "nbformat_minor": 2
}
